{
 "cells": [
  {
   "cell_type": "markdown",
   "metadata": {},
   "source": [
    "# 分類モデルを開発してみよう"
   ]
  },
  {
   "cell_type": "markdown",
   "metadata": {},
   "source": [
    "# 1. 事前準備"
   ]
  },
  {
   "cell_type": "markdown",
   "metadata": {},
   "source": [
    "## 必要なライブラリのインポート"
   ]
  },
  {
   "cell_type": "code",
   "execution_count": 1,
   "metadata": {},
   "outputs": [],
   "source": [
    "import numpy as np\n",
    "import mnist\n",
    "import matplotlib.pyplot as plt\n",
    "from scipy.special import softmax"
   ]
  },
  {
   "cell_type": "markdown",
   "metadata": {},
   "source": [
    "# 2. Layer クラスの開発"
   ]
  },
  {
   "cell_type": "markdown",
   "metadata": {},
   "source": [
    "## Layer クラス"
   ]
  },
  {
   "cell_type": "code",
   "execution_count": 2,
   "metadata": {},
   "outputs": [],
   "source": [
    "class Layer:\n",
    "    \"\"\"全結合層\n",
    "    Attributes:\n",
    "        W (ndarray): 重み `(prev_layer_size, layer_size)`\n",
    "        b (ndarray): バイアス `(layer_size, )`\n",
    "        activation_fn (callable): 活性化関数\n",
    "    \"\"\"\n",
    "\n",
    "    def __init__(self, prev_layer_size, layer_size, activation_fn):\n",
    "        \"\"\"\n",
    "        Args:\n",
    "            prev_layer_size (int): 前のレイヤのノード数\n",
    "            layer_size (int): このレイヤのノード数\n",
    "            activation_fn (callable): 活性化関数\n",
    "        \"\"\"\n",
    "        # 乱数のシードを設定\n",
    "        np.random.seed(1)\n",
    "        \n",
    "        # 重みを Xavier initialization で初期化\n",
    "        self.W = np.random.randn(prev_layer_size, layer_size) / np.sqrt(prev_layer_size)\n",
    "        \n",
    "        # バイアスを0で初期化\n",
    "        self.b = np.zeros((layer_size))\n",
    "        \n",
    "        # 活性化関数を設定\n",
    "        self.activation_fn = activation_fn\n",
    "\n",
    "    def forward(self, A_prev):\n",
    "        \"\"\"\n",
    "        順伝播を行う。\n",
    "        Args:\n",
    "            A_prev (ndarray): 前のレイヤの出力 `(batch_size, prev_layer_size)`\n",
    "        Returns:\n",
    "            A (ndarray): このレイヤの出力 `(batch_size, layer_size)`\n",
    "        \"\"\"\n",
    "        # Z と A を計算\n",
    "        Z = np.dot(A_prev, self.W) + self.b\n",
    "        A = self.activation_fn(Z)\n",
    "\n",
    "        # A を返す\n",
    "        return A"
   ]
  },
  {
   "cell_type": "markdown",
   "metadata": {},
   "source": [
    "# 3. 順伝播を体験しよう"
   ]
  },
  {
   "cell_type": "markdown",
   "metadata": {},
   "source": [
    "## レイヤ0→レイヤ1"
   ]
  },
  {
   "cell_type": "markdown",
   "metadata": {},
   "source": [
    "### バッチ版の入力データを生成"
   ]
  },
  {
   "cell_type": "code",
   "execution_count": 3,
   "metadata": {},
   "outputs": [
    {
     "name": "stdout",
     "output_type": "stream",
     "text": [
      "レイヤ0の出力の型 = (2, 2)\n",
      "レイヤ0の出力 = [[ 1.62434536 -0.61175641]\n",
      " [-0.52817175 -1.07296862]]\n"
     ]
    }
   ],
   "source": [
    "np.random.seed(1) # 乱数のシードを設定\n",
    "batch_size = 2 # バッチサイズ\n",
    "input_layer_size = 2 # 入力層のノードの数\n",
    "A0 = np.random.randn(batch_size, input_layer_size) # (batch_size, input_layer_size) の型で A0 を乱数で生成\n",
    "print('レイヤ0の出力の型 =', A0.shape) # 入力層の出力の型を表示\n",
    "print('レイヤ0の出力 =', A0) # 入力層の出力を表示"
   ]
  },
  {
   "cell_type": "markdown",
   "metadata": {},
   "source": [
    "### ReLU関数を定義"
   ]
  },
  {
   "cell_type": "code",
   "execution_count": 4,
   "metadata": {},
   "outputs": [],
   "source": [
    "relu_fn = lambda Z: np.maximum(Z, 0)"
   ]
  },
  {
   "cell_type": "markdown",
   "metadata": {},
   "source": [
    "### レイヤ1を生成"
   ]
  },
  {
   "cell_type": "code",
   "execution_count": 5,
   "metadata": {},
   "outputs": [
    {
     "name": "stdout",
     "output_type": "stream",
     "text": [
      "レイヤ1の重みの型 = (2, 3)\n",
      "レイヤ1の重み (W1) =\n",
      " [[ 1.14858562 -0.43257711 -0.37347383]\n",
      " [-0.75870339  0.6119356  -1.62743362]]\n",
      "\n",
      "レイヤ1のバイアスの型 = (3,)\n",
      "レイヤ1のバイアス (b1) = [0. 0. 0.]\n"
     ]
    }
   ],
   "source": [
    "layer1 = Layer(2, 3, relu_fn) # レイヤ1の生成\n",
    "\n",
    "print('レイヤ1の重みの型 =', layer1.W.shape)\n",
    "print('レイヤ1の重み (W1) =\\n', layer1.W)\n",
    "print('')\n",
    "print('レイヤ1のバイアスの型 =', layer1.b.shape)\n",
    "print('レイヤ1のバイアス (b1) =', layer1.b)"
   ]
  },
  {
   "cell_type": "markdown",
   "metadata": {},
   "source": [
    "### 順伝播"
   ]
  },
  {
   "cell_type": "code",
   "execution_count": 6,
   "metadata": {},
   "outputs": [
    {
     "name": "stdout",
     "output_type": "stream",
     "text": [
      "レイヤ1の出力の型 = (2, 3)\n",
      "レイヤ1の出力 (A1) =\n",
      " [[2.32984139 0.         0.38894247]\n",
      " [0.20741445 0.         1.94344353]]\n"
     ]
    }
   ],
   "source": [
    "A1 = layer1.forward(A0) # レイヤ0の出力をレイヤ1に順伝播\n",
    "\n",
    "print('レイヤ1の出力の型 =', A1.shape)\n",
    "print('レイヤ1の出力 (A1) =\\n', A1)"
   ]
  },
  {
   "cell_type": "markdown",
   "metadata": {},
   "source": [
    "## レイヤ1→レイヤ2"
   ]
  },
  {
   "cell_type": "markdown",
   "metadata": {},
   "source": [
    "### レイヤ2を生成"
   ]
  },
  {
   "cell_type": "code",
   "execution_count": 7,
   "metadata": {},
   "outputs": [
    {
     "name": "stdout",
     "output_type": "stream",
     "text": [
      "レイヤ2の重みの型 = (3, 4)\n",
      "レイヤ2の重み (W2) =\n",
      " [[ 0.93781623 -0.35319773 -0.3049401  -0.61947872]\n",
      " [ 0.49964333 -1.32879399  1.00736754 -0.43948301]\n",
      " [ 0.18419731 -0.14397405  0.84414841 -1.18942279]]\n",
      "\n",
      "レイヤ2のバイアスの型 = (4,)\n",
      "レイヤ2のバイアス (b2) = [0. 0. 0. 0.]\n"
     ]
    }
   ],
   "source": [
    "layer2 = Layer(3, 4, relu_fn) # レイヤ2の生成\n",
    "\n",
    "print('レイヤ2の重みの型 =', layer2.W.shape)\n",
    "print('レイヤ2の重み (W2) =\\n', layer2.W)\n",
    "print('')\n",
    "print('レイヤ2のバイアスの型 =', layer2.b.shape)\n",
    "print('レイヤ2のバイアス (b2) =', layer2.b)"
   ]
  },
  {
   "cell_type": "markdown",
   "metadata": {},
   "source": [
    "### 順伝播"
   ]
  },
  {
   "cell_type": "code",
   "execution_count": 8,
   "metadata": {},
   "outputs": [
    {
     "name": "stdout",
     "output_type": "stream",
     "text": [
      "レイヤ2の出力の型 = (2, 4)\n",
      "レイヤ2の出力 (a2) =\n",
      " [[2.25660524 0.         0.         0.        ]\n",
      " [0.5524937  0.         1.57730579 0.        ]]\n"
     ]
    }
   ],
   "source": [
    "A2 = layer2.forward(A1) # レイヤ1の出力をレイヤ2に順伝播\n",
    "print('レイヤ2の出力の型 =', A2.shape)\n",
    "print('レイヤ2の出力 (a2) =\\n', A2)"
   ]
  },
  {
   "cell_type": "markdown",
   "metadata": {},
   "source": [
    "## レイヤ2→レイヤ3"
   ]
  },
  {
   "cell_type": "markdown",
   "metadata": {},
   "source": [
    "### Softmax 関数を定義"
   ]
  },
  {
   "cell_type": "code",
   "execution_count": 9,
   "metadata": {},
   "outputs": [],
   "source": [
    "softmax_fn = lambda Z: softmax(Z, axis=1)"
   ]
  },
  {
   "cell_type": "markdown",
   "metadata": {},
   "source": [
    "### レイヤ3を生成"
   ]
  },
  {
   "cell_type": "code",
   "execution_count": 10,
   "metadata": {},
   "outputs": [
    {
     "name": "stdout",
     "output_type": "stream",
     "text": [
      "レイヤ3の重みの型 = (4, 3)\n",
      "レイヤ3の重み (W3) =\n",
      " [[ 0.81217268 -0.30587821 -0.26408588]\n",
      " [-0.53648431  0.43270381 -1.15076935]\n",
      " [ 0.87240588 -0.38060345  0.15951955]\n",
      " [-0.12468519  0.73105397 -1.03007035]]\n",
      "\n",
      "レイヤ3のバイアスの型 = (3,)\n",
      "レイヤ3のバイアス (b3) =\n",
      " [0. 0. 0.]\n"
     ]
    }
   ],
   "source": [
    "layer3 = Layer(4, 3, softmax_fn) # レイヤ3の生成\n",
    "\n",
    "print('レイヤ3の重みの型 =', layer3.W.shape)\n",
    "print('レイヤ3の重み (W3) =\\n', layer3.W)\n",
    "print('')\n",
    "print('レイヤ3のバイアスの型 =', layer3.b.shape)\n",
    "print('レイヤ3のバイアス (b3) =\\n', layer3.b)"
   ]
  },
  {
   "cell_type": "markdown",
   "metadata": {},
   "source": [
    "### 順伝播"
   ]
  },
  {
   "cell_type": "code",
   "execution_count": 11,
   "metadata": {},
   "outputs": [
    {
     "name": "stdout",
     "output_type": "stream",
     "text": [
      "レイヤ3の出力の型 = (2, 3)\n",
      "レイヤ3の出力 (a3) =\n",
      " [[0.85589266 0.06865854 0.0754488 ]\n",
      " [0.79748189 0.05958264 0.14293548]]\n"
     ]
    }
   ],
   "source": [
    "A3 = layer3.forward(A2)\n",
    "print('レイヤ3の出力の型 =', A3.shape)\n",
    "print('レイヤ3の出力 (a3) =\\n', A3)"
   ]
  },
  {
   "cell_type": "markdown",
   "metadata": {},
   "source": [
    "# 4. SimpleClassifier クラスの開発"
   ]
  },
  {
   "cell_type": "markdown",
   "metadata": {},
   "source": [
    "## SimpleClassifier クラス"
   ]
  },
  {
   "cell_type": "code",
   "execution_count": 12,
   "metadata": {},
   "outputs": [],
   "source": [
    "class SimpleClassifier:\n",
    "    \"\"\"　シンプルな分類モデル\n",
    "    Attributes:\n",
    "        layers (list): 隠れ層のリスト\n",
    "    \"\"\"\n",
    "\n",
    "    def __init__(self, input_layer_size, output_layer_size, hidden_layers_sizes, activation_fn=relu_fn):\n",
    "        \"\"\"\n",
    "        Args:\n",
    "            input_layer_size (int): 入力層のノードの数\n",
    "            output_layer_size (int): 出力層のノードの数\n",
    "            hidden_layers_sizes (list): 隠れ層のノードの数を持つリスト。インデックス0: レイヤ1のノードの数、インデックス1: レイヤ2のノードの数　・・・・\n",
    "            activation_fn (callable): 隠れ層に適用する活性化関数\n",
    "        \"\"\"\n",
    "\n",
    "        # 入力層と隠れ層のノードの数をリストに格納。*hidden_layers_sizes　の　「*」 によってリストを展開している \n",
    "        layer_sizes = [input_layer_size, *hidden_layers_sizes]\n",
    "        \n",
    "        # 隠れ層をまとめて生成し、self.layers に格納\n",
    "        self.layers = [\n",
    "            Layer(layer_sizes[i], layer_sizes[i + 1], activation_fn) \n",
    "            for i in range(len(layer_sizes) - 1)]\n",
    "        \n",
    "        # 出力層を生成。活性化関数は Softmax 関数固定。\n",
    "        output_layer= Layer(layer_sizes[-1], output_layer_size, softmax_fn)\n",
    "        \n",
    "        # 出力層を self.layers に格納\n",
    "        self.layers.append(output_layer)\n",
    "\n",
    "    def forward(self, A0):\n",
    "        \"\"\"\n",
    "        順伝播を行い出力層の出力を返す\n",
    "        Args:\n",
    "            A0 (ndarray): 入力層の出力 `(batch_size, input_layer_size)`\n",
    "        Returns:\n",
    "            Y_hat (ndarray): 出力層の出力 `(batch_size, output_layer_size)`\n",
    "        \"\"\"\n",
    "        # 順伝播\n",
    "        A = A0\n",
    "        for layer in self.layers:\n",
    "            A = layer.forward(A)\n",
    "        \n",
    "        # 出力層の出力を返す\n",
    "        Y_hat = A\n",
    "        return Y_hat\n",
    "\n",
    "    def predict(self, X):\n",
    "        \"\"\"\n",
    "        推論し、推論結果を返す\n",
    "        Args:\n",
    "            X (ndarray): 入力データ `(batch_size, input_layer_size)`\n",
    "        Returns:\n",
    "            Y_hat (ndarray): 推論結果 `(batch_size, output_layer_size)`\n",
    "        \"\"\"\n",
    "        Y_hat = self.forward(X)\n",
    "        return Y_hat\n",
    "\n",
    "    def evaluate_accuracy(self, X, Y):\n",
    "        \"\"\"\n",
    "        正解率を計算し返す\n",
    "        Args:\n",
    "            X (ndarray): 対象のデータセット `(batch_size, input_layer_size)`\n",
    "            Y (ndarray): One-Hot の正解データ `(batch_size, output_layer_size)`\n",
    "        Returns:\n",
    "            accuracy (float): 正解率\n",
    "        \"\"\"\n",
    "        # 推論結果が最大となるクラスを取得\n",
    "        predict = np.argmax(self.predict(X), axis=1)\n",
    "        \n",
    "        # 正解のクラスを取得\n",
    "        actual = np.argmax(Y, axis=1)\n",
    "        \n",
    "        # 分類されたクラスと正解クラスが一致する数を計算\n",
    "        num_corrects = len(np.where(predict == actual)[0])\n",
    "        \n",
    "        # 正解率(= 正解の数/データセットのサイズ) を計算して返す\n",
    "        accuracy = num_corrects / len(X)\n",
    "        return accuracy"
   ]
  },
  {
   "cell_type": "markdown",
   "metadata": {},
   "source": [
    "# 5. 画像分類を体験しよう"
   ]
  },
  {
   "cell_type": "markdown",
   "metadata": {},
   "source": [
    "## MNIST データセットの取得"
   ]
  },
  {
   "cell_type": "code",
   "execution_count": 13,
   "metadata": {},
   "outputs": [],
   "source": [
    "X_train, Y_train = mnist.train_images(), mnist.train_labels() # 学習データと正解データを取得\n",
    "X_test, Y_test = mnist.test_images(), mnist.test_labels() # テストデータと正解データを取得\n",
    "X_train, X_test = X_train/255.0, X_test/255.0 # [0-1] のスケールに変換"
   ]
  },
  {
   "cell_type": "markdown",
   "metadata": {},
   "source": [
    "## MNIST データセットの型の確認"
   ]
  },
  {
   "cell_type": "code",
   "execution_count": 14,
   "metadata": {},
   "outputs": [
    {
     "name": "stdout",
     "output_type": "stream",
     "text": [
      "X_train.shape = (60000, 28, 28)\n",
      "Y_train.shape = (60000,)\n",
      "X_test.shape = (10000, 28, 28)\n",
      "Y_test.shape = (10000,)\n"
     ]
    }
   ],
   "source": [
    "print('X_train.shape =', X_train.shape)\n",
    "print('Y_train.shape =', Y_train.shape)\n",
    "print('X_test.shape =', X_test.shape)\n",
    "print('Y_test.shape =', Y_test.shape)"
   ]
  },
  {
   "cell_type": "markdown",
   "metadata": {},
   "source": [
    "## 正解クラスと画像の表示"
   ]
  },
  {
   "cell_type": "code",
   "execution_count": 15,
   "metadata": {},
   "outputs": [
    {
     "name": "stdout",
     "output_type": "stream",
     "text": [
      "7\n"
     ]
    },
    {
     "data": {
      "text/plain": [
       "<matplotlib.image.AxesImage at 0x7f55a0a71898>"
      ]
     },
     "execution_count": 15,
     "metadata": {},
     "output_type": "execute_result"
    },
    {
     "data": {
      "image/png": "[encoded data removed]",
      "text/plain": [
       "<Figure size 432x288 with 1 Axes>"
      ]
     },
     "metadata": {
      "needs_background": "light"
     },
     "output_type": "display_data"
    }
   ],
   "source": [
    "print(Y_test[0]) # 正解クラスの表示\n",
    "plt.imshow(X_test[0], cmap=plt.cm.gray) # 画像の表示"
   ]
  },
  {
   "cell_type": "markdown",
   "metadata": {},
   "source": [
    "## データのフラット化と One-Hot エンコーディング"
   ]
  },
  {
   "cell_type": "code",
   "execution_count": 16,
   "metadata": {},
   "outputs": [],
   "source": [
    "# データをフラットにする\n",
    "X_train_flat, X_test_flat = X_train.reshape(-1, 28 * 28), X_test.reshape(-1, 28 * 28)\n",
    "\n",
    "# One-Hot エンコーディング\n",
    "num_classes = 10 # クラスの数\n",
    "Y_train_ohe = np.eye(num_classes)[Y_train] # ファンシーインデックスを利用\n",
    "Y_test_ohe = np.eye(num_classes)[Y_test]"
   ]
  },
  {
   "cell_type": "markdown",
   "metadata": {},
   "source": [
    "## 変換後の確認"
   ]
  },
  {
   "cell_type": "code",
   "execution_count": 17,
   "metadata": {},
   "outputs": [
    {
     "name": "stdout",
     "output_type": "stream",
     "text": [
      "X_train_flat.shape = (60000, 784)\n",
      "Y_train_ohe.shape = (60000, 10)\n",
      "X_test_flat.shape = (10000, 784)\n",
      "Y_test_ohe.shape = (10000, 10)\n",
      "[0. 0. 0. 0. 0. 0. 0. 1. 0. 0.]\n"
     ]
    }
   ],
   "source": [
    "print('X_train_flat.shape =', X_train_flat.shape)\n",
    "print('Y_train_ohe.shape =', Y_train_ohe.shape)\n",
    "print('X_test_flat.shape =', X_test_flat.shape)\n",
    "print('Y_test_ohe.shape =', Y_test_ohe.shape)\n",
    "\n",
    "# サンプルで確認\n",
    "print(Y_test_ohe[0])"
   ]
  },
  {
   "cell_type": "markdown",
   "metadata": {},
   "source": [
    "## MNIST の分類モデルの生成"
   ]
  },
  {
   "cell_type": "code",
   "execution_count": 18,
   "metadata": {},
   "outputs": [],
   "source": [
    "mnist_classifier = SimpleClassifier(X_test_flat.shape[1], num_classes, [64, 32])"
   ]
  },
  {
   "cell_type": "markdown",
   "metadata": {},
   "source": [
    "## 推論と分類"
   ]
  },
  {
   "cell_type": "code",
   "execution_count": 19,
   "metadata": {},
   "outputs": [
    {
     "name": "stdout",
     "output_type": "stream",
     "text": [
      "推論結果:\n",
      " [0.10292778 0.06061532 0.1338951  0.10314735 0.10864224 0.09773565\n",
      " 0.11141222 0.08672163 0.09830012 0.09660259]\n",
      "分類結果: 2\n"
     ]
    }
   ],
   "source": [
    "Y_hat = mnist_classifier.predict(X_test_flat[0:1]) # テストデータの最初のデータを推論\n",
    "print('推論結果:\\n', Y_hat[0]) # 推論結果を表示\n",
    "print('分類結果:',np.argmax(Y_hat[0])) # 分類結果を表示"
   ]
  },
  {
   "cell_type": "markdown",
   "metadata": {},
   "source": [
    "## 全テストデータの分類と正解率の算出"
   ]
  },
  {
   "cell_type": "code",
   "execution_count": 20,
   "metadata": {},
   "outputs": [
    {
     "name": "stdout",
     "output_type": "stream",
     "text": [
      "正解率: 8.63%\n"
     ]
    }
   ],
   "source": [
    "accuracy = mnist_classifier.evaluate_accuracy(X_test_flat, Y_test_ohe)\n",
    "print('正解率: {:.2f}%'.format(accuracy * 100))"
   ]
  },
  {
   "cell_type": "markdown",
   "metadata": {},
   "source": [
    "# 6. 活性化関数によるモデルの表現力の変化を体験しよう"
   ]
  },
  {
   "cell_type": "markdown",
   "metadata": {},
   "source": [
    "## 3つの活性化関数で実験\n",
    "① $x$　② $0.5x + 1$　③ ReLU"
   ]
  },
  {
   "cell_type": "code",
   "execution_count": 21,
   "metadata": {},
   "outputs": [
    {
     "data": {
      "image/png": "[encoded data removed]",
      "text/plain": [
       "<Figure size 432x288 with 1 Axes>"
      ]
     },
     "metadata": {
      "needs_background": "light"
     },
     "output_type": "display_data"
    }
   ],
   "source": [
    "# ノード数2のレイヤ1とノード数1のレイヤ2（出力層）のみのモデルを生成\n",
    "classifier= SimpleClassifier(2, 1, [2])\n",
    "\n",
    "#  レイヤ1 の重みとバイアスを変更\n",
    "classifier.layers[0].W = np.array([[-1., 1.0], [-0.5, -1]])\n",
    "classifier.layers[0].b = np.array([0.0, 1])\n",
    "\n",
    "# レイヤ2 の重みとバイアスを変更\n",
    "classifier.layers[1].W = np.array([[-1], [-0.5]])\n",
    "classifier.layers[1].b = np.array([0])\n",
    "\n",
    "# レイヤ2の活性化関数を softmax から 線形関数に変更\n",
    "classifier.layers[1].activation_fn =  lambda x: x\n",
    "\n",
    "# 対象の関数\n",
    "def f(x, activation_fn):\n",
    "    # x2 = 1 で固定した (x1, x2) を生成 \n",
    "    A0 = x.reshape(-1, 1)\n",
    "    A0 = np.insert(A0, 1, np.ones([100]), axis=1)\n",
    "    \n",
    "    # レイヤ1の活性化関数を変更\n",
    "    classifier.layers[0].activation_fn = activation_fn\n",
    "    \n",
    "    # 推論\n",
    "    Y_hat = classifier.predict(A0)\n",
    "\n",
    "    return Y_hat\n",
    "\n",
    "# x1の値を生成\n",
    "x1 = np.linspace(-5, 5, 100)\n",
    "\n",
    "# y = x の関数の場合\n",
    "y_linear = f(x1, lambda x: x )\n",
    "\n",
    "# y = 0.5x - 1 の関数の場合\n",
    "y_affine = f(x1, lambda x: 0.5 * x - 1)\n",
    "\n",
    "# ReLU 関数の場合\n",
    "y_relu = f(x1, relu_fn)\n",
    "\n",
    "# グラフの表示\n",
    "range_min = -5\n",
    "range_max = 5\n",
    "plt.axes().set_aspect('equal')\n",
    "plt.xticks(np.arange(range_min, range_max + 1, 1))\n",
    "plt.yticks(np.arange(range_min, range_max + 1, 1))\n",
    "plt.ylim([range_min, range_max])\n",
    "plt.xlim([range_min, range_max])  \n",
    "plt.grid(which='major', color='gray', linestyle='dashed')\n",
    "plt.xlabel('x1')\n",
    "plt.ylabel('y',  rotation=0)\n",
    "plt.plot(x1, y_linear, label='① x',  linestyle='solid')\n",
    "plt.plot(x1, y_affine, label='② 0.5x+1', linestyle='dotted')\n",
    "plt.plot(x1, y_relu, label='③ ReLU', linestyle='dashed')\n",
    "plt.legend()\n",
    "plt.show()"
   ]
  },
  {
   "cell_type": "markdown",
   "metadata": {},
   "source": [
    "# 7. 学習を体験しよう"
   ]
  },
  {
   "cell_type": "markdown",
   "metadata": {},
   "source": [
    "## ユーティリティ関数の準備"
   ]
  },
  {
   "cell_type": "markdown",
   "metadata": {},
   "source": [
    "### 交差エントロピー誤差"
   ]
  },
  {
   "cell_type": "code",
   "execution_count": 30,
   "metadata": {},
   "outputs": [],
   "source": [
    "def cross_entropy_loss(Y_hat, Y):\n",
    "    batch_size = Y_hat.shape[0]\n",
    "    return -np.sum(Y * np.log(Y_hat + 1e-7)) / batch_size"
   ]
  },
  {
   "cell_type": "markdown",
   "metadata": {},
   "source": [
    "### Softmax with Loss の導関数"
   ]
  },
  {
   "cell_type": "code",
   "execution_count": 23,
   "metadata": {},
   "outputs": [],
   "source": [
    "def d_softmax_with_loss_fn(Y_hat, Y):\n",
    "    batch_size = Y_hat.shape[0]\n",
    "    return (Y_hat - Y) / batch_size"
   ]
  },
  {
   "cell_type": "markdown",
   "metadata": {},
   "source": [
    "### ReLU 関数の導関数"
   ]
  },
  {
   "cell_type": "code",
   "execution_count": 24,
   "metadata": {},
   "outputs": [],
   "source": [
    "def d_relu_fn(Z):\n",
    "    return np.where(Z > 0, 1, 0)"
   ]
  },
  {
   "cell_type": "markdown",
   "metadata": {},
   "source": [
    "### 出力層用のダミーの導関数"
   ]
  },
  {
   "cell_type": "code",
   "execution_count": 25,
   "metadata": {},
   "outputs": [],
   "source": [
    "def d_output_fn(dJ_dZ):\n",
    "    return 1"
   ]
  },
  {
   "cell_type": "markdown",
   "metadata": {},
   "source": [
    "## Layer の改修"
   ]
  },
  {
   "cell_type": "code",
   "execution_count": 26,
   "metadata": {},
   "outputs": [],
   "source": [
    "class Layer:\n",
    "    \"\"\"全結合層\n",
    "    Attributes:\n",
    "        W (ndarray): 重み `(prev_layer_size, layer_size)`\n",
    "        b (ndarray): バイアス `(layer_size, )`\n",
    "        activation_fn (callable): 活性化関数\n",
    "        d_activation_fn (callable): 活性化関数の導関数\n",
    "        A (ndarray): このレイヤの出力 `(batch_size, layer_size)`\n",
    "        A_prev (ndarray): 前のレイヤの出力 `(batch_size, prev_layer_size)`\n",
    "        dJ_dW (ndarray): 重みについてのコストの偏微分係数 `(prev_layer_size, layer_size)`\n",
    "        dJ_db (ndarray): バイアスについてのコストの偏微分係数 `(layer_size, )`\n",
    "    \"\"\"\n",
    "\n",
    "    def __init__(self, prev_layer_size, layer_size, activation_fn, d_activation_fn):\n",
    "        \"\"\"\n",
    "        Args:\n",
    "            prev_layer_size (int): 前のレイヤのノード数\n",
    "            layer_size (int): このレイヤのノード数\n",
    "            activation_fn (callable): 活性化関数\n",
    "            d_activation_fn (callable): 活性化関数の導関数\n",
    "        \"\"\"\n",
    "        # 乱数のシードを設定\n",
    "        np.random.seed(1)\n",
    "        \n",
    "        # 重みを Xavier initialization で初期化\n",
    "        self.W = np.random.randn(prev_layer_size, layer_size) / np.sqrt(prev_layer_size)\n",
    "        \n",
    "        # バイアスを0で初期化\n",
    "        self.b = np.zeros((layer_size))\n",
    "        \n",
    "        # 活性化関数を設定\n",
    "        self.activation_fn = activation_fn\n",
    "        \n",
    "        # 活性化関数の導関数を設定\n",
    "        self.d_activation_fn = d_activation_fn \n",
    "\n",
    "    def forward(self, A_prev):\n",
    "        \"\"\"\n",
    "        順伝播を行う。\n",
    "        Args:\n",
    "            A_prev (ndarray): 前のレイヤの出力 `(batch_size, prev_layer_size)`\n",
    "        Returns:\n",
    "            A (ndarray): このレイヤの出力 `(batch_size, layer_size)`\n",
    "        \"\"\"\n",
    "        # Z と A を計算\n",
    "        Z = np.dot(A_prev, self.W) + self.b\n",
    "        A = self.activation_fn(Z)\n",
    "        \n",
    "        # 誤差逆伝播用にこのレイヤの Z と前のレイヤの A をインスタンス変数にセット\n",
    "        self.Z = Z\n",
    "        self.A_prev = A_prev\n",
    "\n",
    "        # A を返す\n",
    "        return A\n",
    "\n",
    "    def backward(self, dJ_dA):\n",
    "        \"\"\"\n",
    "        誤差逆伝播を行う。\n",
    "        Args:\n",
    "            dJ_dA (ndarray): このレイヤの出力 A についてのコストの偏微分係数 `(batch_size, layer_size)`\n",
    "        Returns:\n",
    "            dJ_dA_prev (ndarray): 前のレイヤの出力 A についてのコストの偏微分係数 `(batch_size, prev_layer_size)`\n",
    "        \"\"\"\n",
    "\n",
    "        # このレイヤの Z についてのコストの偏微分係数を計算\n",
    "        # 出力層の場合は、dJ_dA　が dJ_dZ 相当のため、self.d_activation_fn(self.Z) がダミーで 1 を返す\n",
    "        dJ_dZ = dJ_dA * self.d_activation_fn(self.Z) # (batch_size, layer_size)\n",
    "        \n",
    "        # 重みとバイアスについてのコストの偏微分係数を計算してインスタンス変数にセット\n",
    "        self.dJ_dW = np.dot(self.A_prev.T, dJ_dZ) # (prev_layer_size, layer_size)\n",
    "        self.dJ_db = np.dot(np.ones(dJ_dA.shape[0]), dJ_dZ) # (layer_size, )\n",
    "        \n",
    "        # 前のレイヤの　A についてのコストの偏微分係数を計算して誤差逆伝播する\n",
    "        dJ_dA_prev = np.dot(dJ_dZ, self.W.T) # (batch_size, prev_layer_size)\n",
    "        return dJ_dA_prev\n",
    "    \n",
    "    def update_params(self, learning_rate):\n",
    "        \"\"\"\n",
    "        重みとバイアスを更新する。\n",
    "        Args:\n",
    "            learning_rate (float): 学習率\n",
    "        \"\"\"\n",
    "        self.W -= learning_rate * self.dJ_dW\n",
    "        self.b -= learning_rate * self.dJ_db"
   ]
  },
  {
   "cell_type": "markdown",
   "metadata": {},
   "source": [
    "## SimpleClassifier の改修"
   ]
  },
  {
   "cell_type": "code",
   "execution_count": 27,
   "metadata": {},
   "outputs": [],
   "source": [
    "class SimpleClassifier:\n",
    "    \"\"\"　シンプルな分類モデル\n",
    "    Attributes:\n",
    "        layers (list): 隠れ層のリスト\n",
    "        costs (ndarray): エポックごとのコスト\n",
    "        accuracies (ndarray): エポックごとの正解率\n",
    "    \"\"\"\n",
    "\n",
    "    def __init__(self, input_layer_size, output_layer_size, hidden_layers_sizes, activation_fn, d_activation_fn):\n",
    "        \"\"\"\n",
    "        Args:\n",
    "            input_layer_size (int): 入力層のノードの数\n",
    "            output_layer_size (int): 出力層のノードの数\n",
    "            hidden_layers_sizes (list): 隠れ層のノードの数を持つリスト。インデックス0: レイヤ1のノードの数、インデックス1: レイヤ2のノードの数　・・・・\n",
    "            activation_fn (callable): 隠れ層に適用する活性化関数\n",
    "            d_activation_fn (callable): 隠れ層に適用する活性化関数の導関数\n",
    "        \"\"\"\n",
    "\n",
    "        # 入力層と隠れ層のノードの数をリストに格納。*hidden_layers_sizes　の　「*」 によってリストを展開している \n",
    "        layer_sizes = [input_layer_size, *hidden_layers_sizes]\n",
    "        \n",
    "        # 隠れ層をまとめて生成し、self.layers に格納\n",
    "        self.layers = [\n",
    "            Layer(layer_sizes[i], layer_sizes[i + 1], activation_fn, d_activation_fn) \n",
    "            for i in range(len(layer_sizes) - 1)]\n",
    "        \n",
    "        # 出力層を生成。活性化関数は Softmax 関数固定。活性化関数の導関数はスカラーの1を返すダミーの関数。 \n",
    "        output_layer = Layer(layer_sizes[-1], output_layer_size, softmax_fn, d_output_fn)\n",
    "        \n",
    "        # 出力層を self.layers に格納\n",
    "        self.layers.append(output_layer)\n",
    "\n",
    "    def forward(self, A0):\n",
    "        \"\"\"\n",
    "        順伝播を行い出力層の出力を返す\n",
    "        Args:\n",
    "            A0 (ndarray): 入力層の出力 `(batch_size, input_layer_size)`\n",
    "        Returns:\n",
    "            Y_hat (ndarray): 出力層の出力 `(batch_size, output_layer_size)`\n",
    "        \"\"\"\n",
    "        # 順伝播\n",
    "        A = A0\n",
    "        for layer in self.layers:\n",
    "            A = layer.forward(A)\n",
    "        \n",
    "        # 出力層の出力を返す\n",
    "        Y_hat = A\n",
    "        return Y_hat\n",
    "\n",
    "    def predict(self, X):\n",
    "        \"\"\"\n",
    "        推論し、推論結果を返す\n",
    "        Args:\n",
    "            X (ndarray): 入力データ `(batch_size, input_layer_size)`\n",
    "        Returns:\n",
    "            Y_hat (ndarray): 推論結果 `(batch_size, output_layer_size)`\n",
    "        \"\"\"\n",
    "        Y_hat = self.forward(X)\n",
    "        return Y_hat\n",
    "\n",
    "    def evaluate_accuracy(self, X, Y):\n",
    "        \"\"\"\n",
    "        正解率を計算し、正解率を返す\n",
    "        Args:\n",
    "            X (ndarray): 対象のデータセット `(batch_size, input_layer_size)`\n",
    "            Y (ndarray): One-Hot の正解データ `(batch_size, output_layer_size)`\n",
    "        Returns:\n",
    "            accuracy (float): 正解率\n",
    "        \"\"\"\n",
    "        # 推論結果が最大となるクラスを取得\n",
    "        predict = np.argmax(self.predict(X), axis=1)\n",
    "        \n",
    "        # 正解のクラスを取得\n",
    "        actual = np.argmax(Y, axis=1)\n",
    "        \n",
    "        # 分類されたクラスと正解クラスが一致する数を計算\n",
    "        num_corrects = len(np.where(predict == actual)[0])\n",
    "        \n",
    "        # 正解率(= 正解の数/データセットのサイズ) を計算して返す\n",
    "        accuracy = num_corrects / len(X)\n",
    "        return accuracy\n",
    "    \n",
    "    def backward(self, dJ_dZ):\n",
    "        \"\"\"\n",
    "        誤差逆伝播を行い、入力層の出力についてのコストの偏微分係数を返す\n",
    "        Args:\n",
    "            dJ_dZ (ndarray): 出力層の Z についてのコストの偏微分係数 `(batch_size, output_layer_size)`\n",
    "        Returns:\n",
    "            dJ_dA (ndarray): 入力層の出力についてのコストの偏微分係数 `(batch_size, input_layer_size)`\n",
    "        \"\"\"\n",
    "        dJ_dA = dJ_dZ\n",
    "        for layer in reversed(self.layers):\n",
    "            dJ_dA = layer.backward(dJ_dA)\n",
    "        return dJ_dA\n",
    "\n",
    "    def update_params(self, learning_rate):\n",
    "        \"\"\"\n",
    "        隠れ層と出力層の重みとバイアスを更新する\n",
    "        Args:\n",
    "            learning_rate (float): 学習率\n",
    "        \"\"\"\n",
    "        for layer in self.layers:\n",
    "            layer.update_params(learning_rate)\n",
    "    \n",
    "    def train(self, X_train, Y_train, X_test, Y_test, mini_batch_size, num_epochs, learning_rate):\n",
    "        \"\"\"\n",
    "        学習を行う\n",
    "        Args:\n",
    "            X_train (ndarray): 学習データ `(学習データのサイズ, input_layer_size)`\n",
    "            Y_train (ndarray): 正解データ `(学習データのサイズ, output_layer_size)`\n",
    "            X_test (ndarray): テストデータ `(テストデータのサイズ, input_layer_size)`\n",
    "            Y_test (ndarray): テストデータの正解データ `(テストデータのサイズ, output_layer_size)`\n",
    "            mini_batch_size (int): ミニバッチサイズ\n",
    "            num_epochs　(int) : エポック数\n",
    "            learning_rate (float) : 学習率\n",
    "        \"\"\"\n",
    "        # エポックごとのミニバッチの数\n",
    "        num_mini_batches_per_epoch = (X_train.shape[0] - 1) // mini_batch_size + 1\n",
    "\n",
    "        # コストと正解率用のリスト\n",
    "        costs, accuracies = [], []\n",
    "        \n",
    "        # エポックのループ\n",
    "        for epoch in range(num_epochs):\n",
    "            \n",
    "            # このエポックの全ミニバッチのコスト合計\n",
    "            epoch_cost = 0\n",
    "            \n",
    "            # ミニバッチのループ\n",
    "            for b in range(num_mini_batches_per_epoch):\n",
    "                \n",
    "                # ミニバッチを取得\n",
    "                start = b * mini_batch_size\n",
    "                end = start + mini_batch_size\n",
    "                X, Y = X_train[start:end], Y_train[start:end]\n",
    "                \n",
    "                # 順伝播\n",
    "                Y_hat = self.forward(X)\n",
    "                \n",
    "                # コストを計算して、 epoch_cost に加算\n",
    "                epoch_cost += cross_entropy_loss(Y_hat, Y)\n",
    "                \n",
    "                # 誤差逆伝播\n",
    "                self.backward(d_softmax_with_loss_fn(Y_hat, Y))\n",
    "                \n",
    "                # パラメータを更新\n",
    "                self.update_params(learning_rate)\n",
    "\n",
    "            # epoch_cost をミニバッチの数で割って、このエポックの平均コストを算出し、リストに格納\n",
    "            costs.append(epoch_cost / num_mini_batches_per_epoch)\n",
    "            \n",
    "            # エポックごとに正解率を計算\n",
    "            accuracies.append(self.evaluate_accuracy(X_test, Y_test))\n",
    "            print(\"Epoch {:4d}: training cost = {:.6f} | accuracy = {:.2f}%\".format(epoch, costs[epoch], accuracies[epoch] * 100))\n",
    "        \n",
    "        # コストと正解率のリストを ndarray に変換の上、インスタンス変数に格納\n",
    "        self.costs = np.array(costs)\n",
    "        self.accuracies = np.array(accuracies)"
   ]
  },
  {
   "cell_type": "markdown",
   "metadata": {},
   "source": [
    "## 学習"
   ]
  },
  {
   "cell_type": "markdown",
   "metadata": {},
   "source": [
    "### SimpleClassifier の生成と学習"
   ]
  },
  {
   "cell_type": "code",
   "execution_count": 28,
   "metadata": {},
   "outputs": [
    {
     "name": "stdout",
     "output_type": "stream",
     "text": [
      "Epoch    0: training cost = 0.975552 | accuracy = 87.97%\n",
      "Epoch    1: training cost = 0.381819 | accuracy = 90.66%\n",
      "Epoch    2: training cost = 0.316514 | accuracy = 91.72%\n",
      "Epoch    3: training cost = 0.283249 | accuracy = 92.31%\n",
      "Epoch    4: training cost = 0.258692 | accuracy = 92.95%\n",
      "Epoch    5: training cost = 0.238035 | accuracy = 93.49%\n",
      "Epoch    6: training cost = 0.220105 | accuracy = 93.82%\n",
      "Epoch    7: training cost = 0.204623 | accuracy = 94.14%\n",
      "Epoch    8: training cost = 0.191142 | accuracy = 94.43%\n",
      "Epoch    9: training cost = 0.179337 | accuracy = 94.77%\n",
      "Epoch   10: training cost = 0.168937 | accuracy = 94.95%\n",
      "Epoch   11: training cost = 0.159691 | accuracy = 95.20%\n",
      "Epoch   12: training cost = 0.151409 | accuracy = 95.45%\n",
      "Epoch   13: training cost = 0.143864 | accuracy = 95.65%\n",
      "Epoch   14: training cost = 0.137004 | accuracy = 95.78%\n",
      "Epoch   15: training cost = 0.130707 | accuracy = 95.91%\n",
      "Epoch   16: training cost = 0.124923 | accuracy = 96.03%\n",
      "Epoch   17: training cost = 0.119596 | accuracy = 96.09%\n",
      "Epoch   18: training cost = 0.114674 | accuracy = 96.25%\n",
      "Epoch   19: training cost = 0.110119 | accuracy = 96.35%\n"
     ]
    }
   ],
   "source": [
    "mnist_classifier = SimpleClassifier(X_test_flat.shape[1], num_classes, [64, 32], relu_fn, d_relu_fn)\n",
    "mnist_classifier.train(X_train_flat, Y_train_ohe, X_test_flat, Y_test_ohe, mini_batch_size=50, num_epochs=20, learning_rate = 0.01)"
   ]
  },
  {
   "cell_type": "markdown",
   "metadata": {},
   "source": [
    "###  正解率とコストの変化の可視化"
   ]
  },
  {
   "cell_type": "code",
   "execution_count": 29,
   "metadata": {},
   "outputs": [
    {
     "data": {
      "image/png": "[encoded data removed]",
      "text/plain": [
       "<Figure size 1440x360 with 2 Axes>"
      ]
     },
     "metadata": {
      "needs_background": "light"
     },
     "output_type": "display_data"
    }
   ],
   "source": [
    "plt.figure(figsize=(20, 5))\n",
    "\n",
    "# 正解率のグラフ\n",
    "plt.subplot(1, 2, 1)\n",
    "plt.plot(range(1, len(mnist_classifier.accuracies) + 1), mnist_classifier.accuracies * 100)\n",
    "plt.xticks(np.arange(0, len(mnist_classifier.accuracies) + 1, 1))\n",
    "plt.xlabel('Epochs')\n",
    "plt.ylabel('Accuracy (%)')\n",
    "\n",
    "# コストのグラフ\n",
    "plt.subplot(1, 2, 2)\n",
    "plt.plot(range(1, len(mnist_classifier.costs) + 1), mnist_classifier.costs)\n",
    "plt.xticks(np.arange(0, len(mnist_classifier.costs) + 1, 1))\n",
    "plt.xlabel('Epochs')\n",
    "plt.ylabel('Cost')\n",
    "\n",
    "# 表示\n",
    "plt.show()"
   ]
  },
  {
   "cell_type": "code",
   "execution_count": null,
   "metadata": {},
   "outputs": [],
   "source": []
  },
  {
   "cell_type": "code",
   "execution_count": null,
   "metadata": {},
   "outputs": [],
   "source": []
  }
 ],
 "metadata": {
  "kernelspec": {
   "display_name": "Python 3",
   "language": "python",
   "name": "python3"
  },
  "language_info": {
   "codemirror_mode": {
    "name": "ipython",
    "version": 3
   },
   "file_extension": ".py",
   "mimetype": "text/x-python",
   "name": "python",
   "nbconvert_exporter": "python",
   "pygments_lexer": "ipython3",
   "version": "3.6.9"
  }
 },
 "nbformat": 4,
 "nbformat_minor": 4
}
