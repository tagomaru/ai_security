{
 "cells": [
  {
   "cell_type": "markdown",
   "metadata": {},
   "source": [
    "# Lp-norm"
   ]
  },
  {
   "cell_type": "markdown",
   "metadata": {},
   "source": [
    "## 必要なライブラリのインポート"
   ]
  },
  {
   "cell_type": "code",
   "execution_count": 1,
   "metadata": {},
   "outputs": [],
   "source": [
    "import numpy as np\n",
    "\n",
    "# norm 関数のインポート\n",
    "from numpy.linalg import norm"
   ]
  },
  {
   "cell_type": "markdown",
   "metadata": {},
   "source": [
    "## オリジナル画像（相当）と敵対的サンプル（相当）の生成"
   ]
  },
  {
   "cell_type": "code",
   "execution_count": 2,
   "metadata": {},
   "outputs": [
    {
     "name": "stdout",
     "output_type": "stream",
     "text": [
      "original_image: [5 2]\n",
      "adv_image: [5 5]\n"
     ]
    }
   ],
   "source": [
    "original_image = np.array([5, 2])\n",
    "adv_image = np.array([5, 5])\n",
    "print('original_image:', original_image)\n",
    "print('adv_image:', adv_image)"
   ]
  },
  {
   "cell_type": "markdown",
   "metadata": {},
   "source": [
    "## 敵対的サンプルとオリジナル画像の差（ノイズ）の計算"
   ]
  },
  {
   "cell_type": "code",
   "execution_count": 3,
   "metadata": {},
   "outputs": [
    {
     "name": "stdout",
     "output_type": "stream",
     "text": [
      "perturbation: [0 3]\n"
     ]
    }
   ],
   "source": [
    "perturbation = adv_image - original_image\n",
    "print('perturbation:', perturbation)"
   ]
  },
  {
   "cell_type": "markdown",
   "metadata": {},
   "source": [
    "## 敵対的サンプルとオリジナル画像の差の L2 の計算"
   ]
  },
  {
   "cell_type": "code",
   "execution_count": 4,
   "metadata": {},
   "outputs": [
    {
     "name": "stdout",
     "output_type": "stream",
     "text": [
      "3.0\n",
      "3.0\n"
     ]
    }
   ],
   "source": [
    "print(norm(adv_image - original_image, ord=2)) # ord を指定して L2 を計算\n",
    "print(norm(adv_image - original_image)) # ord を指定せずに L2 を計算"
   ]
  },
  {
   "cell_type": "markdown",
   "metadata": {},
   "source": [
    "## グレースケール画像にノイズを加えて敵対的サンプルを生成する例"
   ]
  },
  {
   "cell_type": "code",
   "execution_count": 5,
   "metadata": {},
   "outputs": [
    {
     "name": "stdout",
     "output_type": "stream",
     "text": [
      "[[1.1 2.1]\n",
      " [3.1 4.1]]\n"
     ]
    }
   ],
   "source": [
    "original_image_g = np.array([[1, 2], [3, 4]])\n",
    "perturbation_g = np.array([[0.1, 0.1], [0.1, 0.1]])\n",
    "adv_image_g = original_image_g + perturbation_g\n",
    "print(adv_image_g)"
   ]
  },
  {
   "cell_type": "markdown",
   "metadata": {},
   "source": [
    "## グレースケール画像をベクトルと捉えて敵対的サンプルを生成するイメージ"
   ]
  },
  {
   "cell_type": "code",
   "execution_count": 6,
   "metadata": {},
   "outputs": [
    {
     "name": "stdout",
     "output_type": "stream",
     "text": [
      "[1.1 2.1 3.1 4.1]\n"
     ]
    }
   ],
   "source": [
    "original_image_g = np.array([1, 2, 3, 4])\n",
    "perturbation_g = np.array([0.1, 0.1, 0.1, 0.1])\n",
    "adv_image_g = original_image_g + perturbation_g\n",
    "print(adv_image_g)"
   ]
  },
  {
   "cell_type": "markdown",
   "metadata": {},
   "source": [
    "## 敵対的サンプルとオリジナル画像の差の L0 の計算"
   ]
  },
  {
   "cell_type": "code",
   "execution_count": 22,
   "metadata": {},
   "outputs": [
    {
     "name": "stdout",
     "output_type": "stream",
     "text": [
      "perturbation: [0 3]\n",
      "L0: 1.0\n"
     ]
    }
   ],
   "source": [
    "print('perturbation:', perturbation)\n",
    "print('L0:', norm(perturbation, ord=0))"
   ]
  },
  {
   "cell_type": "markdown",
   "metadata": {},
   "source": [
    "## L0 のその他の例"
   ]
  },
  {
   "cell_type": "code",
   "execution_count": 23,
   "metadata": {},
   "outputs": [
    {
     "name": "stdout",
     "output_type": "stream",
     "text": [
      "4.0\n",
      "3.0\n"
     ]
    }
   ],
   "source": [
    "print(norm(np.array([10, 20, 30, 40, 0]), ord=0))\n",
    "print(norm(np.array([10, 20, 30]), ord=0))"
   ]
  },
  {
   "cell_type": "markdown",
   "metadata": {},
   "source": [
    "## 2次元配列の L0 の例"
   ]
  },
  {
   "cell_type": "code",
   "execution_count": 25,
   "metadata": {},
   "outputs": [
    {
     "name": "stdout",
     "output_type": "stream",
     "text": [
      "3.0\n"
     ]
    }
   ],
   "source": [
    "print(norm(np.array([[1, 2], [3, 0]]).reshape(-1), ord=0))"
   ]
  },
  {
   "cell_type": "markdown",
   "metadata": {},
   "source": [
    "## 敵対的サンプルとオリジナル画像の差の Linf の計算"
   ]
  },
  {
   "cell_type": "code",
   "execution_count": 9,
   "metadata": {},
   "outputs": [
    {
     "name": "stdout",
     "output_type": "stream",
     "text": [
      "perturbation: [0 3]\n",
      "L0: 3.0\n"
     ]
    }
   ],
   "source": [
    "print('perturbation:', perturbation)\n",
    "print('Linf:', norm(perturbation, ord=np.inf))"
   ]
  },
  {
   "cell_type": "markdown",
   "metadata": {},
   "source": [
    "## 絶対値が最大となる要素が負の値の Linf の例 "
   ]
  },
  {
   "cell_type": "code",
   "execution_count": 10,
   "metadata": {},
   "outputs": [
    {
     "name": "stdout",
     "output_type": "stream",
     "text": [
      "30.0\n"
     ]
    }
   ],
   "source": [
    "print(norm(np.array([10, 20, -30]), ord=np.inf))"
   ]
  },
  {
   "cell_type": "markdown",
   "metadata": {},
   "source": [
    "## 2次元配列の Linf の例"
   ]
  },
  {
   "cell_type": "code",
   "execution_count": 26,
   "metadata": {},
   "outputs": [
    {
     "name": "stdout",
     "output_type": "stream",
     "text": [
      "4.0\n"
     ]
    }
   ],
   "source": [
    "print(norm(np.array([[1, 2], [3, 4]]).reshape(-1), ord=np.inf))"
   ]
  },
  {
   "cell_type": "code",
   "execution_count": null,
   "metadata": {},
   "outputs": [],
   "source": []
  }
 ],
 "metadata": {
  "kernelspec": {
   "display_name": "Python 3",
   "language": "python",
   "name": "python3"
  },
  "language_info": {
   "codemirror_mode": {
    "name": "ipython",
    "version": 3
   },
   "file_extension": ".py",
   "mimetype": "text/x-python",
   "name": "python",
   "nbconvert_exporter": "python",
   "pygments_lexer": "ipython3",
   "version": "3.6.9"
  }
 },
 "nbformat": 4,
 "nbformat_minor": 4
}
