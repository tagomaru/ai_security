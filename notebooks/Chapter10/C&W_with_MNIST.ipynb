{
 "cells": [
  {
   "cell_type": "markdown",
   "metadata": {},
   "source": [
    "# C&W Attack\n",
    "[Carlini and Wagner, “Towards Evaluating the Robustness of Neural Networks”](https://arxiv.org/abs/1608.04644)."
   ]
  },
  {
   "cell_type": "markdown",
   "metadata": {},
   "source": [
    "# 1. 事前準備と確認"
   ]
  },
  {
   "cell_type": "markdown",
   "metadata": {},
   "source": [
    "## 必要なライブラリのインポート"
   ]
  },
  {
   "cell_type": "code",
   "execution_count": 2,
   "metadata": {},
   "outputs": [],
   "source": [
    "import numpy as np\n",
    "import matplotlib.pyplot as plt\n",
    "import tensorflow as tf\n",
    "from tensorflow import keras\n",
    "from tensorflow.keras.utils import to_categorical"
   ]
  },
  {
   "cell_type": "markdown",
   "metadata": {},
   "source": [
    "## MNIST 用のモデルをロード"
   ]
  },
  {
   "cell_type": "code",
   "execution_count": 3,
   "metadata": {},
   "outputs": [],
   "source": [
    "model = keras.models.load_model('../../models/mnist.h5')"
   ]
  },
  {
   "cell_type": "markdown",
   "metadata": {},
   "source": [
    "## MNIST 用のモデル（logits版）をロード"
   ]
  },
  {
   "cell_type": "code",
   "execution_count": 4,
   "metadata": {},
   "outputs": [],
   "source": [
    "model_logits = keras.models.load_model('../../models/mnist_logits.h5')"
   ]
  },
  {
   "cell_type": "markdown",
   "metadata": {},
   "source": [
    "## MNIST データの取得とスケール変換"
   ]
  },
  {
   "cell_type": "code",
   "execution_count": 5,
   "metadata": {},
   "outputs": [
    {
     "name": "stdout",
     "output_type": "stream",
     "text": [
      "Downloading data from https://storage.googleapis.com/tensorflow/tf-keras-datasets/mnist.npz\n",
      "11493376/11490434 [==============================] - 1s 0us/step\n"
     ]
    }
   ],
   "source": [
    "# MNIST データを Keras を使って取得\n",
    "_, (X_test, Y_test) = keras.datasets.mnist.load_data()\n",
    "\n",
    "# 0-1 スケールに変換\n",
    "X_test = X_test/255.0"
   ]
  },
  {
   "cell_type": "markdown",
   "metadata": {},
   "source": [
    "## オリジナル画像の取得と表示"
   ]
  },
  {
   "cell_type": "code",
   "execution_count": 6,
   "metadata": {},
   "outputs": [
    {
     "data": {
      "text/plain": [
       "<matplotlib.image.AxesImage at 0x7f00383f3a20>"
      ]
     },
     "execution_count": 6,
     "metadata": {},
     "output_type": "execute_result"
    },
    {
     "data": {
      "image/png": "[encoded data removed]",
      "text/plain": [
       "<Figure size 432x288 with 1 Axes>"
      ]
     },
     "metadata": {
      "needs_background": "light"
     },
     "output_type": "display_data"
    }
   ],
   "source": [
    "original_image = X_test[0]\n",
    "plt.axis('off')\n",
    "plt.imshow(original_image, cmap=plt.cm.gray)"
   ]
  },
  {
   "cell_type": "markdown",
   "metadata": {},
   "source": [
    "## オリジナル画像のスコアと分類結果の表示 (model)"
   ]
  },
  {
   "cell_type": "code",
   "execution_count": 7,
   "metadata": {},
   "outputs": [
    {
     "name": "stdout",
     "output_type": "stream",
     "text": [
      "Prediction: 7 - score 99.91%\n"
     ]
    }
   ],
   "source": [
    "Y_hat = model.predict(np.expand_dims(original_image, 0)) # 推論結果\n",
    "original_class = np.argmax(Y_hat, axis=1)[0] # 分類結果\n",
    "original_score = np.max(Y_hat, axis=1)[0] # スコア\n",
    "\n",
    "# 分類結果とスコアを表示\n",
    "print('Prediction: {0} - score {1:.2f}%'.format(original_class, original_score * 100))"
   ]
  },
  {
   "cell_type": "markdown",
   "metadata": {},
   "source": [
    "## オリジナル画像の logit と分類結果の表示 (model_logits)"
   ]
  },
  {
   "cell_type": "code",
   "execution_count": 8,
   "metadata": {},
   "outputs": [
    {
     "name": "stdout",
     "output_type": "stream",
     "text": [
      "Prediction: 7 - logit 12.28\n"
     ]
    }
   ],
   "source": [
    "logits = model_logits.predict(np.expand_dims(original_image, 0)) # logits\n",
    "original_class_logits = np.argmax(logits, axis=1)[0] # 分類結果\n",
    "original_logit = np.max(logits, axis=1)[0] # オリジナルクラスの logit\n",
    "\n",
    "# 分類結果と logit を表示\n",
    "print('Prediction: {0} - logit {1:.2f}'.format(original_class_logits, original_logit))"
   ]
  },
  {
   "cell_type": "markdown",
   "metadata": {},
   "source": [
    "# 2. CW2 クラス開発"
   ]
  },
  {
   "cell_type": "markdown",
   "metadata": {},
   "source": [
    "## CW2 クラス開発"
   ]
  },
  {
   "cell_type": "code",
   "execution_count": 9,
   "metadata": {},
   "outputs": [],
   "source": [
    "class CW2:\n",
    "    \"\"\" C&W Attack (L2) による敵対的サンプルを生成\n",
    "    Attributes:\n",
    "        classifier (Model) : logits を出力するモデル\n",
    "        k (float): 自信を調整するパラメータ\n",
    "        learning_rate (float): Adam の学習率\n",
    "        binary_search_steps (int): バイナリサーチの回数\n",
    "        max_iterations (int): Adam の最大イテレーション回数\n",
    "        initial_c (float): c の初期値\n",
    "    \"\"\"\n",
    "\n",
    "    def __init__(self, classifier, k = 0, learning_rate = 0.01,\n",
    "                            binary_search_steps = 9, max_iterations = 1000,\n",
    "                            initial_c = 0.001):\n",
    "\n",
    "        # 引数をすべてインスタンス変数にセット\n",
    "        self.classifier = classifier\n",
    "        self.k = k\n",
    "        self.learning_rate = learning_rate\n",
    "        self.max_iterations = max_iterations\n",
    "        self.binary_search_steps = binary_search_steps\n",
    "        self.initial_c = initial_c\n",
    "            \n",
    "    def is_satisfied_with_k(self, logits, target_class):\n",
    "        \"\"\"\n",
    "        「 k を加味したターゲットクラスの logit が最大」という制約を満たすか確認する。\n",
    "        ターゲットクラスの logit から k　を引いた値が他のどのクラスの logit よりも大きければ　True を返し、\n",
    "        そうでなければ、False を返す。\n",
    "        Args:\n",
    "            logits (ndarray): logits\n",
    "            target_class (ndarray): ターゲットクラス\n",
    "        Returns:\n",
    "            satisfied (bool): 制約を満たす場合は True、そうでなければ False\n",
    "        \"\"\"\n",
    "        logits = np.copy(logits)\n",
    "        logits[target_class] -= self.k\n",
    "        satisfied = np.argmax(logits) == target_class\n",
    "        return satisfied    \n",
    "    \n",
    "    def generate(self, original_image, target_class_ohe):\n",
    "        \"\"\"\n",
    "        敵対的サンプルを生成\n",
    "        Args:\n",
    "            original_image (ndarray): オリジナル画像 `(28, 28)`\n",
    "            target_class_ohe (ndarray): ターゲットクラスの One-Hot `(10, )`\n",
    "        Returns:\n",
    "            o_best_adv_image (ndarray): 敵対的サンプル `(28, 28)`\n",
    "        \"\"\"\n",
    "\n",
    "        # ターゲットクラスを変数にセット\n",
    "        target_class = np.argmax(target_class_ohe)\n",
    "        \n",
    "        # オリジナル画像の型を変数にセット\n",
    "        shape = original_image.shape\n",
    "               \n",
    "        # c とその下限値と上限値をセット\n",
    "        c = self.initial_c\n",
    "        c_lower = 0\n",
    "        c_upper = 1e10\n",
    "\n",
    "        #  (tanh(w) + 1) / 2 の w\n",
    "        w = tf.Variable(np.zeros(shape, dtype=np.float32))\n",
    "        \n",
    "        #  オリジナル画像を Tensor にキャスト\n",
    "        original_imgae = tf.cast(original_image, dtype=tf.float32)\n",
    "\n",
    "        # 目的関数を生成する\n",
    "        def build_objective():\n",
    "\n",
    "            # 敵対的サンプルを格納する変数\n",
    "            adv_image = (tf.tanh(w) + 1) / 2\n",
    "\n",
    "            # 目的関数1\n",
    "            objective1 = tf.reduce_sum(tf.square(adv_image - original_image))\n",
    "\n",
    "            # 敵対的サンプルの logits\n",
    "            logits = self.classifier(tf.expand_dims(adv_image, axis=0))[0]\n",
    "\n",
    "            # ターゲットクラスの logit\n",
    "            target_logit = tf.reduce_sum(target_class_ohe * logits)\n",
    "            \n",
    "            # ターゲットクラス以外の logit の最大値\n",
    "            other_max_logit = tf.reduce_max((1 - target_class_ohe) * logits + (target_class_ohe * np.min(logits)))\n",
    "          \n",
    "            # 目的関数2\n",
    "            objective2 = c * tf.maximum(0.0, other_max_logit - target_logit + self.k)\n",
    "\n",
    "            # 目的関数\n",
    "            objective = objective1 + objective2\n",
    "\n",
    "            return objective\n",
    "\n",
    "        # 目的関数を呼び出し可能な(callable)オブジェクトとしてセット\n",
    "        objective = lambda: build_objective()\n",
    "        \n",
    "        # 目的関数の最小化の過程で見つかった最小の objective1、敵対的サンプル、分類結果を格納する変数\n",
    "        o_best_objective1 = np.inf # 初期値として無限をセット\n",
    "        o_best_adv_image = np.zeros(shape) # 初期値としてすべての要素に0をセット\n",
    "        o_best_class = -1 # 初期値としてダミークラスをセット\n",
    "        \n",
    "        # バイナリサーチ用のループ\n",
    "        for outer_step in range(self.binary_search_steps):\n",
    "            \n",
    "            # バイナリサーチのステップ内で見つかった最小の objective1 と分類結果を格納する変数\n",
    "            best_objective1 = np.inf # 初期値として無限をセット\n",
    "            best_class = -1 # 初期値としてダミークラスをセット\n",
    "            \n",
    "            # objective を保存しておく変数\n",
    "            prev_objective = np.inf # 初期値として無限をセット\n",
    "            \n",
    "            # Adam のインスタンスを生成\n",
    "            opt = keras.optimizers.Adam(self.learning_rate)\n",
    "            \n",
    "            # Adam を実行するループ\n",
    "            for iteration in range(self.max_iterations):\n",
    "                \n",
    "                # Adam を実行\n",
    "                opt.minimize(objective, var_list=[w])\n",
    "                \n",
    "                # 敵対的サンプルの logits 取得\n",
    "                adv_image = (tf.tanh(w) + 1) / 2\n",
    "                logits = self.classifier(tf.expand_dims(adv_image, axis=0))[0]\n",
    "\n",
    "                objective1 = tf.reduce_sum(tf.square(adv_image - original_image))\n",
    "\n",
    "                # max_iterations の 10% ごとに objective を確認\n",
    "                if iteration % (self.max_iterations // 10) == 0:\n",
    "                    # objective にほとんど変化がない、もしくは増えている場合は Adam のループを抜ける\n",
    "                    if objective() > prev_objective * 0.9999:\n",
    "                        break\n",
    "                    # 次のステップの比較用に現在の objective を保存\n",
    "                    prev_objective = objective()\n",
    "                \n",
    "                # 制約を満たすか確認\n",
    "                satisfied = self.is_satisfied_with_k(logits, target_class)\n",
    "\n",
    "                # objective1 が、best_objective1 より小さく、制約も満たせば、best_objective1 と best_class を更新する\n",
    "                if objective1 < best_objective1 and satisfied:\n",
    "                    best_objective1 = objective1\n",
    "                    best_class = target_class\n",
    "                    \n",
    "                # objective1 が、o_best_objective1 より小さく、制約も満たせば、o_best_objective1, o_best_class, o_best_adv_image を更新する\n",
    "                if objective1 < o_best_objective1 and satisfied:\n",
    "                    o_best_objective1 = objective1\n",
    "                    o_best_class = target_class\n",
    "                    o_best_adv_image = adv_image\n",
    "\n",
    "            # 現在のバイナリサーチのステップで制約を満たしている場合\n",
    "            if best_class == target_class:\n",
    "                # c の上限値に現在の c をセットする\n",
    "                c_upper = c\n",
    "\n",
    "                # c に　「現在の c」　と　「c の下限値」　の平均値をセットする\n",
    "                c = (c_lower + c_upper) / 2\n",
    "\n",
    "            # 見つからなかった場合\n",
    "            else:\n",
    "                # c の下限値に現在の c をセットする\n",
    "                c_lower = c\n",
    "                if c_upper < 1e9:\n",
    "                    # c の上限値が 1e9 未満の場合は、c に　「現在の c」　と　「c の上限値」　の平均値をセットする\n",
    "                    c = (c_lower + c_upper) / 2\n",
    "                else:\n",
    "                    # それ以外は、c が大きくなりすぎないように、c を 10 倍する\n",
    "                    c *= 10\n",
    "            \n",
    "            # ログ出力\n",
    "            print('Binary Search {0}/{1}'.format(outer_step + 1, self.binary_search_steps))\n",
    "            print('  L2 square: {0:.2f} - c: {1:.2f} - class: {2}'.format(o_best_objective1, c, o_best_class))\n",
    "\n",
    "        # 敵対的サンプルを ndarray に変換して返す\n",
    "        return o_best_adv_image.numpy()"
   ]
  },
  {
   "cell_type": "markdown",
   "metadata": {},
   "source": [
    "# 3. 攻撃"
   ]
  },
  {
   "cell_type": "markdown",
   "metadata": {},
   "source": [
    "## ターゲットクラスの One-Hot を生成"
   ]
  },
  {
   "cell_type": "code",
   "execution_count": 10,
   "metadata": {},
   "outputs": [],
   "source": [
    "target_class_ohe = to_categorical(0, num_classes=10) # ターゲットクラスを 0 とする"
   ]
  },
  {
   "cell_type": "markdown",
   "metadata": {},
   "source": [
    "## k = 0 で敵対的サンプルを生成"
   ]
  },
  {
   "cell_type": "code",
   "execution_count": 11,
   "metadata": {},
   "outputs": [
    {
     "name": "stdout",
     "output_type": "stream",
     "text": [
      "Binary Search 1/9\n",
      "  L2 square: inf - c: 0.01 - class: -1\n",
      "Binary Search 2/9\n",
      "  L2 square: inf - c: 0.10 - class: -1\n",
      "Binary Search 3/9\n",
      "  L2 square: inf - c: 1.00 - class: -1\n",
      "Binary Search 4/9\n",
      "  L2 square: 1.77 - c: 0.55 - class: 0\n",
      "Binary Search 5/9\n",
      "  L2 square: 1.76 - c: 0.33 - class: 0\n",
      "Binary Search 6/9\n",
      "  L2 square: 1.76 - c: 0.44 - class: 0\n",
      "Binary Search 7/9\n",
      "  L2 square: 1.76 - c: 0.38 - class: 0\n",
      "Binary Search 8/9\n",
      "  L2 square: 1.76 - c: 0.41 - class: 0\n",
      "Binary Search 9/9\n",
      "  L2 square: 1.76 - c: 0.40 - class: 0\n"
     ]
    }
   ],
   "source": [
    "attack = CW2(model_logits, k=0) # k = 0 で CW2 のインスタンスを生成\n",
    "adv_image_k0 = attack.generate(original_image, target_class_ohe) # 敵対的サンプルを生成"
   ]
  },
  {
   "cell_type": "markdown",
   "metadata": {},
   "source": [
    "## k = 0 の敵対的サンプルによる攻撃と敵対的サンプルの表示"
   ]
  },
  {
   "cell_type": "code",
   "execution_count": 12,
   "metadata": {},
   "outputs": [
    {
     "data": {
      "text/plain": [
       "<matplotlib.image.AxesImage at 0x7f003807f630>"
      ]
     },
     "execution_count": 12,
     "metadata": {},
     "output_type": "execute_result"
    },
    {
     "data": {
      "image/png": "[encoded data removed]",
      "text/plain": [
       "<Figure size 432x288 with 1 Axes>"
      ]
     },
     "metadata": {
      "needs_background": "light"
     },
     "output_type": "display_data"
    }
   ],
   "source": [
    "# 推論結果。 model_logits ではなく、model での推論である点に注意\n",
    "Y_hat_k0 = model.predict(np.expand_dims(adv_image_k0, 0))\n",
    "\n",
    "# スコア\n",
    "score_k0 = np.max(Y_hat_k0[0])\n",
    "\n",
    "# 分類結果\n",
    "class_k0 = np.argmax(Y_hat_k0[0])\n",
    "\n",
    "# L2\n",
    "L2_k0 = np.linalg.norm(adv_image_k0 - original_image)\n",
    "\n",
    "# 敵対的サンプルを表示\n",
    "plt.axis('off')\n",
    "plt.title('{0} - {1:.2f}% - {2:.2f}'.format(class_k0, score_k0 * 100, L2_k0))\n",
    "plt.imshow(adv_image_k0, cmap=plt.cm.gray)"
   ]
  },
  {
   "cell_type": "markdown",
   "metadata": {},
   "source": [
    "## k = 7 で敵対的サンプルを生成"
   ]
  },
  {
   "cell_type": "code",
   "execution_count": 13,
   "metadata": {},
   "outputs": [
    {
     "name": "stdout",
     "output_type": "stream",
     "text": [
      "Binary Search 1/9\n",
      "  L2 square: inf - c: 0.01 - class: -1\n",
      "Binary Search 2/9\n",
      "  L2 square: inf - c: 0.10 - class: -1\n",
      "Binary Search 3/9\n",
      "  L2 square: inf - c: 1.00 - class: -1\n",
      "Binary Search 4/9\n",
      "  L2 square: inf - c: 10.00 - class: -1\n",
      "Binary Search 5/9\n",
      "  L2 square: 6.85 - c: 5.50 - class: 0\n",
      "Binary Search 6/9\n",
      "  L2 square: 6.81 - c: 3.25 - class: 0\n",
      "Binary Search 7/9\n",
      "  L2 square: 6.81 - c: 2.12 - class: 0\n",
      "Binary Search 8/9\n",
      "  L2 square: 6.79 - c: 1.56 - class: 0\n",
      "Binary Search 9/9\n",
      "  L2 square: 6.78 - c: 1.28 - class: 0\n"
     ]
    }
   ],
   "source": [
    "attack = CW2(model_logits, k=7) # k = 7 で CW2 のインスタンスを生成\n",
    "adv_image_k7 = attack.generate(original_image, target_class_ohe)"
   ]
  },
  {
   "cell_type": "markdown",
   "metadata": {},
   "source": [
    "## k = 7 の敵対的サンプルによる攻撃と敵対的サンプルの表示"
   ]
  },
  {
   "cell_type": "code",
   "execution_count": 14,
   "metadata": {},
   "outputs": [
    {
     "data": {
      "text/plain": [
       "<matplotlib.image.AxesImage at 0x7efffc77c160>"
      ]
     },
     "execution_count": 14,
     "metadata": {},
     "output_type": "execute_result"
    },
    {
     "data": {
      "image/png": "[encoded data removed]",
      "text/plain": [
       "<Figure size 432x288 with 1 Axes>"
      ]
     },
     "metadata": {
      "needs_background": "light"
     },
     "output_type": "display_data"
    }
   ],
   "source": [
    "# 推論結果。 model_logits ではなく、model での推論である点に注意\n",
    "Y_hat_k7 = model.predict(np.expand_dims(adv_image_k7, 0))\n",
    "\n",
    "# スコア\n",
    "score_k7 = np.max(Y_hat_k7[0])\n",
    "\n",
    "# 分類結果\n",
    "class_k7 = np.argmax(Y_hat_k7[0])\n",
    "\n",
    "# L2\n",
    "L2_k7 = np.linalg.norm(adv_image_k7 - original_image)\n",
    "\n",
    "# 敵対的サンプルを表示\n",
    "plt.axis('off')\n",
    "plt.title('{0} - {1:.2f}% - {2:.2f}'.format(class_k0, score_k7 * 100, L2_k7))\n",
    "plt.imshow(adv_image_k7, cmap=plt.cm.gray)"
   ]
  },
  {
   "cell_type": "markdown",
   "metadata": {},
   "source": [
    "## 全て表示（cmap=plt.cm.binary）"
   ]
  },
  {
   "cell_type": "code",
   "execution_count": 15,
   "metadata": {},
   "outputs": [
    {
     "data": {
      "text/plain": [
       "<matplotlib.image.AxesImage at 0x7efffc71c4a8>"
      ]
     },
     "execution_count": 15,
     "metadata": {},
     "output_type": "execute_result"
    },
    {
     "data": {
      "image/png": "[encoded data removed]",
      "text/plain": [
       "<Figure size 1080x1080 with 3 Axes>"
      ]
     },
     "metadata": {
      "needs_background": "light"
     },
     "output_type": "display_data"
    }
   ],
   "source": [
    "plt.figure(figsize=(15, 15))\n",
    "\n",
    "# オリジナル画像を表示\n",
    "plt.subplot(1, 3, 1)\n",
    "plt.gca().axes.xaxis.set_visible(False)\n",
    "plt.gca().axes.yaxis.set_visible(False)\n",
    "plt.title('Original\\n {0} - {1:.2f}%'.format(original_class, original_score * 100))\n",
    "plt.imshow(original_image, cmap=plt.cm.binary)\n",
    "\n",
    "# k = 0 の敵対的サンプルを表示\n",
    "plt.subplot(1, 3, 2)\n",
    "plt.gca().axes.xaxis.set_visible(False)\n",
    "plt.gca().axes.yaxis.set_visible(False)\n",
    "plt.title('Adversarial (k = 0)\\n {0} - {1:.2f}% - {2:.2f}'.format(class_k0, score_k0 * 100, L2_k0))\n",
    "plt.imshow(adv_image_k0, cmap=plt.cm.binary)\n",
    "\n",
    "# k = 7 の敵対的サンプルを表示\n",
    "plt.subplot(1, 3, 3)\n",
    "plt.gca().axes.xaxis.set_visible(False)\n",
    "plt.gca().axes.yaxis.set_visible(False)\n",
    "plt.title('Adversarial (k = 7)\\n {0} - {1:.2f}% - {2:.2f}'.format(class_k7, score_k7 * 100, L2_k7))\n",
    "plt.imshow(adv_image_k7, cmap=plt.cm.binary)"
   ]
  },
  {
   "cell_type": "code",
   "execution_count": null,
   "metadata": {},
   "outputs": [],
   "source": []
  }
 ],
 "metadata": {
  "kernelspec": {
   "display_name": "Python 3",
   "language": "python",
   "name": "python3"
  },
  "language_info": {
   "codemirror_mode": {
    "name": "ipython",
    "version": 3
   },
   "file_extension": ".py",
   "mimetype": "text/x-python",
   "name": "python",
   "nbconvert_exporter": "python",
   "pygments_lexer": "ipython3",
   "version": "3.6.9"
  }
 },
 "nbformat": 4,
 "nbformat_minor": 2
}
