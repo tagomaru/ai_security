{
 "cells": [
  {
   "cell_type": "markdown",
   "metadata": {},
   "source": [
    "# Keras による MNIST の分類モデルの生成"
   ]
  },
  {
   "cell_type": "markdown",
   "metadata": {},
   "source": [
    "# 1. 事前準備"
   ]
  },
  {
   "cell_type": "markdown",
   "metadata": {},
   "source": [
    "## 必要なライブラリのインポート"
   ]
  },
  {
   "cell_type": "code",
   "execution_count": 1,
   "metadata": {},
   "outputs": [],
   "source": [
    "import numpy as np\n",
    "import matplotlib.pyplot as plt\n",
    "\n",
    "# Keras 関連\n",
    "from tensorflow import keras\n",
    "from tensorflow.keras.optimizers import SGD\n",
    "from tensorflow.python.keras.activations import linear"
   ]
  },
  {
   "cell_type": "markdown",
   "metadata": {},
   "source": [
    "## MNIST データの取得とスケール変換"
   ]
  },
  {
   "cell_type": "code",
   "execution_count": 2,
   "metadata": {},
   "outputs": [
    {
     "name": "stdout",
     "output_type": "stream",
     "text": [
      "Downloading data from https://storage.googleapis.com/tensorflow/tf-keras-datasets/mnist.npz\n",
      "11493376/11490434 [==============================] - 1s 0us/step\n"
     ]
    }
   ],
   "source": [
    "#  MNIST　データを Keras を使って取得\n",
    "(X_train, Y_train), (X_test, Y_test) = keras.datasets.mnist.load_data()\n",
    "\n",
    "# 0-1 スケールに変換\n",
    "X_train, X_test = X_train/255.0, X_test/255.0"
   ]
  },
  {
   "cell_type": "markdown",
   "metadata": {},
   "source": [
    "# 2. モデルの生成と学習"
   ]
  },
  {
   "cell_type": "markdown",
   "metadata": {},
   "source": [
    "## モデルの生成"
   ]
  },
  {
   "cell_type": "code",
   "execution_count": 3,
   "metadata": {},
   "outputs": [],
   "source": [
    "model = keras.models.Sequential([\n",
    "    keras.layers.Flatten(input_shape=X_train.shape[1:3]), # フラット化のための層\n",
    "    keras.layers.Dense(64, activation='relu'), # レイヤ1。64ノードで活性化関数は ReLU 関数\n",
    "    keras.layers.Dense(32, activation='relu'), # レイヤ2。32ノードで活性化関数は　ReLU 関数\n",
    "    keras.layers.Dense(10, activation='softmax')]) # レイヤ3。10ノードで活性化関数はソフトマックス関数"
   ]
  },
  {
   "cell_type": "markdown",
   "metadata": {},
   "source": [
    "## コンパイル"
   ]
  },
  {
   "cell_type": "code",
   "execution_count": 4,
   "metadata": {},
   "outputs": [],
   "source": [
    "model.compile(\n",
    "    optimizer=SGD(learning_rate=0.01), # 最適化アルゴリズムに確率的勾配降下法を利用\n",
    "    loss='sparse_categorical_crossentropy', # 損失関数に交差エントロピー誤差を利用\n",
    "    metrics=['accuracy']) # 評価メトリクスに正解率を利用"
   ]
  },
  {
   "cell_type": "markdown",
   "metadata": {},
   "source": [
    "## モデルのサマリを表示"
   ]
  },
  {
   "cell_type": "code",
   "execution_count": 4,
   "metadata": {},
   "outputs": [
    {
     "name": "stdout",
     "output_type": "stream",
     "text": [
      "Model: \"sequential\"\n",
      "_________________________________________________________________\n",
      "Layer (type)                 Output Shape              Param #   \n",
      "=================================================================\n",
      "flatten (Flatten)            (None, 784)               0         \n",
      "_________________________________________________________________\n",
      "dense (Dense)                (None, 64)                50240     \n",
      "_________________________________________________________________\n",
      "dense_1 (Dense)              (None, 32)                2080      \n",
      "_________________________________________________________________\n",
      "dense_2 (Dense)              (None, 10)                330       \n",
      "=================================================================\n",
      "Total params: 52,650\n",
      "Trainable params: 52,650\n",
      "Non-trainable params: 0\n",
      "_________________________________________________________________\n"
     ]
    }
   ],
   "source": [
    "model.summary()"
   ]
  },
  {
   "cell_type": "markdown",
   "metadata": {},
   "source": [
    "## パラメータの数を計算"
   ]
  },
  {
   "cell_type": "code",
   "execution_count": 6,
   "metadata": {},
   "outputs": [
    {
     "data": {
      "text/plain": [
       "52650"
      ]
     },
     "execution_count": 6,
     "metadata": {},
     "output_type": "execute_result"
    }
   ],
   "source": [
    "784 * 64 + 64 * 32 + 32 * 10 + 64 + 32 + 10"
   ]
  },
  {
   "cell_type": "markdown",
   "metadata": {},
   "source": [
    "## モデルの学習"
   ]
  },
  {
   "cell_type": "code",
   "execution_count": 7,
   "metadata": {},
   "outputs": [
    {
     "name": "stdout",
     "output_type": "stream",
     "text": [
      "Train on 60000 samples, validate on 10000 samples\n",
      "Epoch 1/20\n",
      "60000/60000 [==============================] - 3s 44us/sample - loss: 0.8295 - accuracy: 0.7807 - val_loss: 0.4037 - val_accuracy: 0.8876\n",
      "Epoch 2/20\n",
      "60000/60000 [==============================] - 4s 58us/sample - loss: 0.3645 - accuracy: 0.8963 - val_loss: 0.3108 - val_accuracy: 0.9106\n",
      "Epoch 3/20\n",
      "60000/60000 [==============================] - 3s 50us/sample - loss: 0.3023 - accuracy: 0.9124 - val_loss: 0.2694 - val_accuracy: 0.9237\n",
      "Epoch 4/20\n",
      "60000/60000 [==============================] - 2s 40us/sample - loss: 0.2667 - accuracy: 0.9229 - val_loss: 0.2434 - val_accuracy: 0.9279\n",
      "Epoch 5/20\n",
      "60000/60000 [==============================] - 3s 50us/sample - loss: 0.2411 - accuracy: 0.9307 - val_loss: 0.2245 - val_accuracy: 0.9329\n",
      "Epoch 6/20\n",
      "60000/60000 [==============================] - 3s 42us/sample - loss: 0.2205 - accuracy: 0.9369 - val_loss: 0.2066 - val_accuracy: 0.9383\n",
      "Epoch 7/20\n",
      "60000/60000 [==============================] - 3s 58us/sample - loss: 0.2036 - accuracy: 0.9416 - val_loss: 0.2028 - val_accuracy: 0.9401\n",
      "Epoch 8/20\n",
      "60000/60000 [==============================] - 3s 54us/sample - loss: 0.1888 - accuracy: 0.9460 - val_loss: 0.1815 - val_accuracy: 0.9469\n",
      "Epoch 9/20\n",
      "60000/60000 [==============================] - 3s 55us/sample - loss: 0.1763 - accuracy: 0.9491 - val_loss: 0.1725 - val_accuracy: 0.9483\n",
      "Epoch 10/20\n",
      "60000/60000 [==============================] - 3s 55us/sample - loss: 0.1654 - accuracy: 0.9525 - val_loss: 0.1624 - val_accuracy: 0.9516\n",
      "Epoch 11/20\n",
      "60000/60000 [==============================] - 3s 58us/sample - loss: 0.1560 - accuracy: 0.9551 - val_loss: 0.1575 - val_accuracy: 0.9528\n",
      "Epoch 12/20\n",
      "60000/60000 [==============================] - 3s 54us/sample - loss: 0.1475 - accuracy: 0.9574 - val_loss: 0.1475 - val_accuracy: 0.9551\n",
      "Epoch 13/20\n",
      "60000/60000 [==============================] - 3s 52us/sample - loss: 0.1400 - accuracy: 0.9593 - val_loss: 0.1443 - val_accuracy: 0.9561\n",
      "Epoch 14/20\n",
      "60000/60000 [==============================] - 3s 55us/sample - loss: 0.1334 - accuracy: 0.9618 - val_loss: 0.1389 - val_accuracy: 0.9573\n",
      "Epoch 15/20\n",
      "60000/60000 [==============================] - 4s 59us/sample - loss: 0.1272 - accuracy: 0.9640 - val_loss: 0.1348 - val_accuracy: 0.9592\n",
      "Epoch 16/20\n",
      "60000/60000 [==============================] - 3s 49us/sample - loss: 0.1215 - accuracy: 0.9655 - val_loss: 0.1309 - val_accuracy: 0.9602\n",
      "Epoch 17/20\n",
      "60000/60000 [==============================] - 3s 42us/sample - loss: 0.1166 - accuracy: 0.9666 - val_loss: 0.1268 - val_accuracy: 0.9606\n",
      "Epoch 18/20\n",
      "60000/60000 [==============================] - 3s 54us/sample - loss: 0.1121 - accuracy: 0.9679 - val_loss: 0.1209 - val_accuracy: 0.9621\n",
      "Epoch 19/20\n",
      "60000/60000 [==============================] - 3s 49us/sample - loss: 0.1079 - accuracy: 0.9688 - val_loss: 0.1229 - val_accuracy: 0.9624\n",
      "Epoch 20/20\n",
      "60000/60000 [==============================] - 3s 55us/sample - loss: 0.1039 - accuracy: 0.9703 - val_loss: 0.1176 - val_accuracy: 0.9634\n"
     ]
    },
    {
     "data": {
      "text/plain": [
       "<tensorflow.python.keras.callbacks.History at 0x7f10e102d160>"
      ]
     },
     "execution_count": 7,
     "metadata": {},
     "output_type": "execute_result"
    }
   ],
   "source": [
    "model.fit(\n",
    "    X_train, # 学習データ\n",
    "    Y_train, # 学習データの正解データ\n",
    "    batch_size=50, # ミニバッチサイズ\n",
    "    epochs=20, # エポック数\n",
    "    validation_data=(X_test, Y_test)) # エポックごとに評価に使うデータ\n",
    "                                                                # ここではテストデータとその正解データを指定"
   ]
  },
  {
   "cell_type": "markdown",
   "metadata": {},
   "source": [
    "# 3. 画像の分類"
   ]
  },
  {
   "cell_type": "markdown",
   "metadata": {},
   "source": [
    "## 画像の表示"
   ]
  },
  {
   "cell_type": "code",
   "execution_count": 5,
   "metadata": {},
   "outputs": [
    {
     "data": {
      "text/plain": [
       "<matplotlib.image.AxesImage at 0x7f44ff225b38>"
      ]
     },
     "execution_count": 5,
     "metadata": {},
     "output_type": "execute_result"
    },
    {
     "data": {
      "image/png": "[encoded data removed]",
      "text/plain": [
       "<Figure size 432x288 with 1 Axes>"
      ]
     },
     "metadata": {
      "needs_background": "light"
     },
     "output_type": "display_data"
    }
   ],
   "source": [
    "image_index = 1\n",
    "plt.imshow(X_test[image_index], cmap=plt.cm.gray)"
   ]
  },
  {
   "cell_type": "markdown",
   "metadata": {},
   "source": [
    "## 推論"
   ]
  },
  {
   "cell_type": "code",
   "execution_count": 6,
   "metadata": {},
   "outputs": [
    {
     "name": "stdout",
     "output_type": "stream",
     "text": [
      "Y_hat.shape: (10000, 10)\n",
      "Y_hat[image_index]:\n",
      " [4.3516274e-04 1.0968289e-04 9.9192458e-01 5.4151248e-03 4.3289603e-09\n",
      " 1.1258811e-03 6.9828215e-04 1.4092737e-08 2.9138630e-04 9.4987920e-09]\n"
     ]
    }
   ],
   "source": [
    "Y_hat = model.predict(X_test) # すべてのテストデータの推論結果\n",
    "print('Y_hat.shape:', Y_hat.shape) # 推論結果の型を表示\n",
    "print('Y_hat[image_index]:\\n', Y_hat[image_index]) # image_index = 1 の推論結果を表示"
   ]
  },
  {
   "cell_type": "markdown",
   "metadata": {},
   "source": [
    "## 分類"
   ]
  },
  {
   "cell_type": "code",
   "execution_count": 8,
   "metadata": {},
   "outputs": [
    {
     "name": "stdout",
     "output_type": "stream",
     "text": [
      "Prediction: 2 - score 99.19%\n"
     ]
    }
   ],
   "source": [
    "classified_class = np.argmax(Y_hat[image_index]) # image_index = 1 の分類結果を取得\n",
    "score = np.max(Y_hat[image_index]) # image_index = 1 のスコアを取得\n",
    "\n",
    "# 分類結果とスコアを表示\n",
    "print('Prediction: {0} - score {1:.2f}%'.format(classified_class, score * 100))"
   ]
  },
  {
   "cell_type": "markdown",
   "metadata": {},
   "source": [
    "# 4. モデルの保存"
   ]
  },
  {
   "cell_type": "markdown",
   "metadata": {},
   "source": [
    "## 開発したモデルの保存"
   ]
  },
  {
   "cell_type": "code",
   "execution_count": 24,
   "metadata": {},
   "outputs": [],
   "source": [
    "# model.save('../../models/mnist.h5')"
   ]
  },
  {
   "cell_type": "markdown",
   "metadata": {},
   "source": [
    "## モデルのロード"
   ]
  },
  {
   "cell_type": "code",
   "execution_count": 3,
   "metadata": {},
   "outputs": [],
   "source": [
    "# restored_model = keras.models.load_model('../../models/mnist.h5')"
   ]
  },
  {
   "cell_type": "markdown",
   "metadata": {},
   "source": [
    "## logits 版のモデルの保存"
   ]
  },
  {
   "cell_type": "code",
   "execution_count": 26,
   "metadata": {},
   "outputs": [],
   "source": [
    "# model.layers[-1].activation = linear\n",
    "# model.save('../../models/mnist_logits.h5')"
   ]
  },
  {
   "cell_type": "code",
   "execution_count": null,
   "metadata": {},
   "outputs": [],
   "source": []
  }
 ],
 "metadata": {
  "kernelspec": {
   "display_name": "Python 3",
   "language": "python",
   "name": "python3"
  },
  "language_info": {
   "codemirror_mode": {
    "name": "ipython",
    "version": 3
   },
   "file_extension": ".py",
   "mimetype": "text/x-python",
   "name": "python",
   "nbconvert_exporter": "python",
   "pygments_lexer": "ipython3",
   "version": "3.6.9"
  }
 },
 "nbformat": 4,
 "nbformat_minor": 4
}
