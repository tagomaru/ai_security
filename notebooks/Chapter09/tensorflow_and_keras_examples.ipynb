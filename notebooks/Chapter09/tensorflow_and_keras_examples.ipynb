{
 "cells": [
  {
   "cell_type": "markdown",
   "metadata": {},
   "source": [
    "# TensorFlow の操作"
   ]
  },
  {
   "cell_type": "markdown",
   "metadata": {},
   "source": [
    "## 必要なライブラリのインポート"
   ]
  },
  {
   "cell_type": "code",
   "execution_count": 1,
   "metadata": {},
   "outputs": [],
   "source": [
    "import tensorflow as tf"
   ]
  },
  {
   "cell_type": "markdown",
   "metadata": {},
   "source": [
    "# 1. Tensor オブジェクト"
   ]
  },
  {
   "cell_type": "markdown",
   "metadata": {},
   "source": [
    "## 定数の Tensor の生成"
   ]
  },
  {
   "cell_type": "code",
   "execution_count": 2,
   "metadata": {},
   "outputs": [
    {
     "name": "stdout",
     "output_type": "stream",
     "text": [
      "a: tf.Tensor(5.0, shape=(), dtype=float32)\n",
      "A: tf.Tensor(\n",
      "[[1. 2.]\n",
      " [3. 4.]], shape=(2, 2), dtype=float32) \n",
      "\n"
     ]
    }
   ],
   "source": [
    "a = tf.constant(5, dtype='float32') # スカラーを生成\n",
    "A = tf.constant([[1, 2], [3, 4]], dtype='float32') # 2次元配列を生成\n",
    "print('a:', a,)\n",
    "print('A:', A, '\\n')"
   ]
  },
  {
   "cell_type": "markdown",
   "metadata": {},
   "source": [
    "## Tensor の演算"
   ]
  },
  {
   "cell_type": "code",
   "execution_count": 3,
   "metadata": {},
   "outputs": [
    {
     "name": "stdout",
     "output_type": "stream",
     "text": [
      "tf.add(a, b): tf.Tensor(7.0, shape=(), dtype=float32)\n",
      "a + b: tf.Tensor(7.0, shape=(), dtype=float32)\n",
      "a - b: tf.Tensor(3.0, shape=(), dtype=float32)\n",
      "a * b: tf.Tensor(10.0, shape=(), dtype=float32)\n",
      "a / b: tf.Tensor(2.5, shape=(), dtype=float32)\n",
      "a % b: tf.Tensor(1.0, shape=(), dtype=float32)\n",
      "a // b: tf.Tensor(2.0, shape=(), dtype=float32)\n",
      "A + B: tf.Tensor(\n",
      "[[11. 22.]\n",
      " [33. 44.]], shape=(2, 2), dtype=float32)\n"
     ]
    }
   ],
   "source": [
    "b = tf.constant(2, dtype='float32') # スカラーを生成\n",
    "B = tf.constant([[10, 20], [30, 40]], dtype='float32') # 2次元配列を生成\n",
    "print('tf.add(a, b):', tf.add(a, b)) # tf.add 関数で加算\n",
    "print('a + b:', a + b) # 加算\n",
    "print('a - b:', a - b) # 減算\n",
    "print('a * b:', a * b) # 乗算\n",
    "print('a / b:', a / b) # 除算\n",
    "print('a % b:', a % b) # 剰余\n",
    "print('a // b:', a // b) # 切り捨て除算\n",
    "print('A + B:', A + B) # 2次元配列同士の加算"
   ]
  },
  {
   "cell_type": "markdown",
   "metadata": {},
   "source": [
    "## 変数の Tensor の生成と演算"
   ]
  },
  {
   "cell_type": "code",
   "execution_count": 4,
   "metadata": {},
   "outputs": [
    {
     "name": "stdout",
     "output_type": "stream",
     "text": [
      "tf.Tensor([11. 22.], shape=(2,), dtype=float32)\n"
     ]
    }
   ],
   "source": [
    "d = tf.Variable([10, 20], dtype='float32') # 1次元配列の変数を生成\n",
    "e = tf.Variable([1, 2], dtype='float32') # 1次元配列の変数を生成\n",
    "print(d + e) # d と e の和"
   ]
  },
  {
   "cell_type": "markdown",
   "metadata": {},
   "source": [
    "## NumPy のオブジェクトに変換"
   ]
  },
  {
   "cell_type": "code",
   "execution_count": 5,
   "metadata": {},
   "outputs": [
    {
     "name": "stdout",
     "output_type": "stream",
     "text": [
      "type(A_np): <class 'numpy.ndarray'>\n",
      "A_np: [[1. 2.]\n",
      " [3. 4.]]\n",
      "\n",
      "type(d_np): <class 'numpy.ndarray'>\n",
      "d_np\": [10. 20.]\n"
     ]
    }
   ],
   "source": [
    "A_np = A.numpy() # 定数の A を NumPy のオブジェクトに変換\n",
    "print('type(A_np):', type(A_np))\n",
    "print('A_np:', A_np)\n",
    "\n",
    "print() # 改行\n",
    "\n",
    "d_np = d.numpy() # 変数の d を NumPy のオブジェクトに変換\n",
    "print('type(d_np):', type(d_np))\n",
    "print('d_np\":', d_np)"
   ]
  },
  {
   "cell_type": "markdown",
   "metadata": {},
   "source": [
    "## ndarray から Tensor へのキャスト"
   ]
  },
  {
   "cell_type": "code",
   "execution_count": 6,
   "metadata": {},
   "outputs": [
    {
     "name": "stdout",
     "output_type": "stream",
     "text": [
      "tf.Tensor(\n",
      "[[1. 2.]\n",
      " [3. 4.]], shape=(2, 2), dtype=float32)\n"
     ]
    }
   ],
   "source": [
    "print(tf.cast(A_np, tf.float32)) # A_np を Tensor へキャスト"
   ]
  },
  {
   "cell_type": "markdown",
   "metadata": {},
   "source": [
    "# 3. TensorFlow による勾配降下法の体験"
   ]
  },
  {
   "cell_type": "markdown",
   "metadata": {},
   "source": [
    "## tf.GradientTape による勾配の計算"
   ]
  },
  {
   "cell_type": "code",
   "execution_count": 7,
   "metadata": {},
   "outputs": [
    {
     "name": "stdout",
     "output_type": "stream",
     "text": [
      "6.0\n"
     ]
    }
   ],
   "source": [
    "x = tf.Variable(3.0)\n",
    "\n",
    "# 監視対象の変数と微分対象の関数をセット\n",
    "with tf.GradientTape() as tape:\n",
    "    tape.watch(x)\n",
    "    y = x ** 2\n",
    "\n",
    "# 勾配を計算\n",
    "dy_dx = tape.gradient(y, x)\n",
    "\n",
    "# 勾配を表示\n",
    "print(dy_dx.numpy())"
   ]
  },
  {
   "cell_type": "markdown",
   "metadata": {},
   "source": [
    "## 勾配降下法の体験"
   ]
  },
  {
   "cell_type": "markdown",
   "metadata": {},
   "source": [
    "### 勾配降下法の関数を定義"
   ]
  },
  {
   "cell_type": "code",
   "execution_count": 8,
   "metadata": {},
   "outputs": [],
   "source": [
    "def gradient_descent(learning_rate):\n",
    "    x = tf.Variable(3.0)\n",
    "    \n",
    "    # スタート時点での x と y を表示\n",
    "    print('  (x, y) = ({0:.2f}, {1:.2f})'.format(x.numpy(), (x ** 2).numpy()))\n",
    "    \n",
    "    # 勾配降下法を5ステップ実行\n",
    "    for i in range(5):\n",
    "        with tf.GradientTape() as tape:\n",
    "            tape.watch(x)\n",
    "            y = x ** 2\n",
    "        dy_dx = tape.gradient(y, x)\n",
    "        x.assign(x - learning_rate * dy_dx) # x を更新 (x = x - learning_rate * dy_dx)\n",
    "        \n",
    "        # x と y を表示\n",
    "        print('  (x, y) = ({0:.2f}, {1:.2f})'.format(x.numpy(), (x ** 2).numpy()))"
   ]
  },
  {
   "cell_type": "markdown",
   "metadata": {},
   "source": [
    "### 複数の学習率で勾配降下法を実行"
   ]
  },
  {
   "cell_type": "code",
   "execution_count": 9,
   "metadata": {},
   "outputs": [
    {
     "name": "stdout",
     "output_type": "stream",
     "text": [
      "Learning rate = 0.3\n",
      "  (x, y) = (3.00, 9.00)\n",
      "  (x, y) = (1.20, 1.44)\n",
      "  (x, y) = (0.48, 0.23)\n",
      "  (x, y) = (0.19, 0.04)\n",
      "  (x, y) = (0.08, 0.01)\n",
      "  (x, y) = (0.03, 0.00)\n",
      "\n",
      "Learning rate = 0.8\n",
      "  (x, y) = (3.00, 9.00)\n",
      "  (x, y) = (-1.80, 3.24)\n",
      "  (x, y) = (1.08, 1.17)\n",
      "  (x, y) = (-0.65, 0.42)\n",
      "  (x, y) = (0.39, 0.15)\n",
      "  (x, y) = (-0.23, 0.05)\n",
      "\n",
      "Learning rate = 1.2\n",
      "  (x, y) = (3.00, 9.00)\n",
      "  (x, y) = (-4.20, 17.64)\n",
      "  (x, y) = (5.88, 34.57)\n",
      "  (x, y) = (-8.23, 67.77)\n",
      "  (x, y) = (11.52, 132.82)\n",
      "  (x, y) = (-16.13, 260.33)\n",
      "\n"
     ]
    }
   ],
   "source": [
    "for learning_rate in (0.3, 0.8, 1.2):\n",
    "    print('Learning rate =', learning_rate)\n",
    "    gradient_descent(learning_rate)\n",
    "    print()"
   ]
  },
  {
   "cell_type": "markdown",
   "metadata": {},
   "source": [
    "# 4. Keras の最適化アルゴリズムの利用"
   ]
  },
  {
   "cell_type": "markdown",
   "metadata": {},
   "source": [
    "## Keras のインポート"
   ]
  },
  {
   "cell_type": "code",
   "execution_count": 10,
   "metadata": {},
   "outputs": [],
   "source": [
    "import tensorflow.keras as keras"
   ]
  },
  {
   "cell_type": "markdown",
   "metadata": {},
   "source": [
    "## 勾配降下法の実行"
   ]
  },
  {
   "cell_type": "code",
   "execution_count": 12,
   "metadata": {},
   "outputs": [
    {
     "name": "stdout",
     "output_type": "stream",
     "text": [
      "Learning rate = 0.3\n",
      "  (x, y) = (3.00, 9.00)\n",
      "  (x, y) = (1.20, 1.44)\n",
      "  (x, y) = (0.48, 0.23)\n",
      "  (x, y) = (0.19, 0.04)\n",
      "  (x, y) = (0.08, 0.01)\n",
      "  (x, y) = (0.03, 0.00)\n",
      "\n",
      "Learning rate = 0.8\n",
      "  (x, y) = (3.00, 9.00)\n",
      "  (x, y) = (-1.80, 3.24)\n",
      "  (x, y) = (1.08, 1.17)\n",
      "  (x, y) = (-0.65, 0.42)\n",
      "  (x, y) = (0.39, 0.15)\n",
      "  (x, y) = (-0.23, 0.05)\n",
      "\n",
      "Learning rate = 1.2\n",
      "  (x, y) = (3.00, 9.00)\n",
      "  (x, y) = (-4.20, 17.64)\n",
      "  (x, y) = (5.88, 34.57)\n",
      "  (x, y) = (-8.23, 67.77)\n",
      "  (x, y) = (11.52, 132.82)\n",
      "  (x, y) = (-16.13, 260.33)\n",
      "\n"
     ]
    }
   ],
   "source": [
    "for learning_rate in (0.3, 0.8, 1.2):\n",
    "    x = tf.Variable(3.0)\n",
    "    \n",
    "    # ①. 最適化の対象の関数（目的関数）\n",
    "    objective = lambda: x ** 2\n",
    "    \n",
    "    # 学習率を表示\n",
    "    print('Learning rate =', learning_rate)\n",
    "    \n",
    "    # スタート時点での x と y を表示\n",
    "    print('  (x, y) = ({0:.2f}, {1:.2f})'.format(x.numpy(), objective().numpy()))\n",
    "\n",
    "    # ②. SGD のインスタンスを生成\n",
    "    opt = keras.optimizers.SGD(learning_rate)\n",
    "    \n",
    "    # 勾配降下を5ステップ実行\n",
    "    for i in range(5):\n",
    "        \n",
    "        # ③. 最小化\n",
    "        opt.minimize(objective, var_list = [x])\n",
    "        \n",
    "        # x と y を表示\n",
    "        print('  (x, y) = ({0:.2f}, {1:.2f})'.format(x.numpy(), objective().numpy()))\n",
    "    \n",
    "    print()"
   ]
  },
  {
   "cell_type": "markdown",
   "metadata": {},
   "source": [
    "## Adam"
   ]
  },
  {
   "cell_type": "markdown",
   "metadata": {},
   "source": [
    "### Adam の実行"
   ]
  },
  {
   "cell_type": "code",
   "execution_count": 13,
   "metadata": {},
   "outputs": [
    {
     "name": "stdout",
     "output_type": "stream",
     "text": [
      "Learning rate = 0.3\n",
      "  (x, y) = (3.00, 9.00)\n",
      "  (x, y) = (2.70, 7.29)\n",
      "  (x, y) = (2.40, 5.77)\n",
      "  (x, y) = (2.10, 4.43)\n",
      "  (x, y) = (1.81, 3.28)\n",
      "  (x, y) = (1.52, 2.32)\n",
      "\n",
      "Learning rate = 0.8\n",
      "  (x, y) = (3.00, 9.00)\n",
      "  (x, y) = (2.20, 4.84)\n",
      "  (x, y) = (1.42, 2.00)\n",
      "  (x, y) = (0.67, 0.45)\n",
      "  (x, y) = (-0.01, 0.00)\n",
      "  (x, y) = (-0.59, 0.35)\n",
      "\n",
      "Learning rate = 1.2\n",
      "  (x, y) = (3.00, 9.00)\n",
      "  (x, y) = (1.80, 3.24)\n",
      "  (x, y) = (0.65, 0.42)\n",
      "  (x, y) = (-0.36, 0.13)\n",
      "  (x, y) = (-1.12, 1.25)\n",
      "  (x, y) = (-1.53, 2.34)\n",
      "\n"
     ]
    }
   ],
   "source": [
    "for learning_rate in (0.3, 0.8, 1.2):\n",
    "    x = tf.Variable(3.0)\n",
    "    \n",
    "    # 最適化の対象の関数（目的関数）\n",
    "    objective = lambda: x ** 2\n",
    "    \n",
    "    # 学習率を表示\n",
    "    print('Learning rate =', learning_rate)\n",
    "    \n",
    "    # スタート時点での x と y を表示\n",
    "    print('  (x, y) = ({0:.2f}, {1:.2f})'.format(x.numpy(), objective().numpy()))\n",
    "    \n",
    "    # SGD を Adam に変更するだけ\n",
    "    # opt = keras.optimizers.SGD(learning_rate)\n",
    "    opt = keras.optimizers.Adam(learning_rate)\n",
    "    \n",
    "    # Adam を5ステップ実行\n",
    "    for i in range(5):\n",
    "        \n",
    "        # 最小化\n",
    "        opt.minimize(objective, var_list = [x])\n",
    "        \n",
    "        # x と y を表示\n",
    "        print('  (x, y) = ({0:.2f}, {1:.2f})'.format(x.numpy(), objective().numpy()))\n",
    "    \n",
    "    print()"
   ]
  },
  {
   "cell_type": "code",
   "execution_count": null,
   "metadata": {},
   "outputs": [],
   "source": []
  },
  {
   "cell_type": "code",
   "execution_count": null,
   "metadata": {},
   "outputs": [],
   "source": []
  }
 ],
 "metadata": {
  "kernelspec": {
   "display_name": "Python 3",
   "language": "python",
   "name": "python3"
  },
  "language_info": {
   "codemirror_mode": {
    "name": "ipython",
    "version": 3
   },
   "file_extension": ".py",
   "mimetype": "text/x-python",
   "name": "python",
   "nbconvert_exporter": "python",
   "pygments_lexer": "ipython3",
   "version": "3.6.9"
  }
 },
 "nbformat": 4,
 "nbformat_minor": 4
}
