{
 "cells": [
  {
   "cell_type": "markdown",
   "metadata": {},
   "source": [
    "# 敵対的トレーニング"
   ]
  },
  {
   "cell_type": "markdown",
   "metadata": {},
   "source": [
    "# 1. 事前準備"
   ]
  },
  {
   "cell_type": "markdown",
   "metadata": {},
   "source": [
    "## 必要なライブラリのインポート"
   ]
  },
  {
   "cell_type": "code",
   "execution_count": 1,
   "metadata": {},
   "outputs": [],
   "source": [
    "import numpy as np\n",
    "import matplotlib.pyplot as plt\n",
    "\n",
    "import tensorflow as tf\n",
    "from tensorflow import keras\n",
    "from tensorflow.keras.optimizers import SGD\n",
    "tf.compat.v1.disable_eager_execution() #  Eager Execution を無効にする\n",
    "\n",
    "# ART 関連\n",
    "from art.attacks.evasion import ProjectedGradientDescent\n",
    "from art.estimators.classification import KerasClassifier"
   ]
  },
  {
   "cell_type": "markdown",
   "metadata": {},
   "source": [
    "## 通常モデルをロード"
   ]
  },
  {
   "cell_type": "code",
   "execution_count": 2,
   "metadata": {},
   "outputs": [
    {
     "name": "stdout",
     "output_type": "stream",
     "text": [
      "WARNING:tensorflow:From /usr/local/lib/python3.6/dist-packages/tensorflow_core/python/ops/resource_variable_ops.py:1635: calling BaseResourceVariable.__init__ (from tensorflow.python.ops.resource_variable_ops) with constraint is deprecated and will be removed in a future version.\n",
      "Instructions for updating:\n",
      "If using Keras pass *_constraint arguments to layers.\n"
     ]
    }
   ],
   "source": [
    "normal_model = keras.models.load_model('../../models/mnist.h5')"
   ]
  },
  {
   "cell_type": "markdown",
   "metadata": {},
   "source": [
    "## ロバストモデルの生成（誤って読者が実行しないようにコメントアウトしています）"
   ]
  },
  {
   "cell_type": "code",
   "execution_count": 3,
   "metadata": {},
   "outputs": [],
   "source": [
    "# robust_model = keras.models.Sequential([\n",
    "#     keras.layers.Flatten(input_shape=X_train.shape[1:3]), # フラット化のための層\n",
    "#     keras.layers.Dense(64, activation='relu'), # レイヤ1。64ノードで活性化関数は ReLU 関数\n",
    "#     keras.layers.Dense(32, activation='relu'), # レイヤ2。32ノードで活性化関数は　ReLU 関数\n",
    "#     keras.layers.Dense(10, activation='softmax')]) # レイヤ3。10ノードで活性化関数は Softmax 関数"
   ]
  },
  {
   "cell_type": "markdown",
   "metadata": {},
   "source": [
    "## 敵対的トレーニング前のロバストモデルの保存（誤って読者が実行しないようにコメントアウトしています）"
   ]
  },
  {
   "cell_type": "code",
   "execution_count": 4,
   "metadata": {},
   "outputs": [],
   "source": [
    "# robust_model.save('../../models/initial_robust_mnist.h5')"
   ]
  },
  {
   "cell_type": "markdown",
   "metadata": {},
   "source": [
    "## 筆者が生成した敵対的トレーニング前のロバストモデルのロード"
   ]
  },
  {
   "cell_type": "code",
   "execution_count": 3,
   "metadata": {},
   "outputs": [
    {
     "name": "stdout",
     "output_type": "stream",
     "text": [
      "WARNING:tensorflow:No training configuration found in save file: the model was *not* compiled. Compile it manually.\n"
     ]
    }
   ],
   "source": [
    "robust_model = keras.models.load_model('../../models/initial_robust_mnist.h5')"
   ]
  },
  {
   "cell_type": "markdown",
   "metadata": {},
   "source": [
    "## ロバストモデルのコンパイル"
   ]
  },
  {
   "cell_type": "code",
   "execution_count": 4,
   "metadata": {},
   "outputs": [],
   "source": [
    "robust_model.compile(\n",
    "    optimizer=SGD(learning_rate=0.01), # 最適化アルゴリズムに確率的勾配降下法を利用\n",
    "    loss='sparse_categorical_crossentropy', # 損失関数に交差エントロピー誤差を利用\n",
    "    metrics=['accuracy']) # 評価メトリクスに正解率を利用"
   ]
  },
  {
   "cell_type": "markdown",
   "metadata": {},
   "source": [
    "## MNIST データの取得とスケール変換"
   ]
  },
  {
   "cell_type": "code",
   "execution_count": 5,
   "metadata": {},
   "outputs": [],
   "source": [
    "# MNIST データを Keras を使って取得\n",
    "(X_train, Y_train), (X_test, Y_test) = keras.datasets.mnist.load_data()\n",
    "\n",
    "# [0, 1] スケールに変換\n",
    "X_train, X_test = X_train/255.0, X_test/255.0"
   ]
  },
  {
   "cell_type": "markdown",
   "metadata": {},
   "source": [
    "# 2. 敵対的トレーニング用クラスの開発と敵対的トレーニング"
   ]
  },
  {
   "cell_type": "markdown",
   "metadata": {},
   "source": [
    "## 敵対的トレーニング用のクラス"
   ]
  },
  {
   "cell_type": "code",
   "execution_count": 6,
   "metadata": {},
   "outputs": [],
   "source": [
    "class AdversarialTraining:\n",
    "    \"\"\" Adversarial Training\n",
    "    Attributes:\n",
    "        robust_model: ロバストモデル\n",
    "        attack : ART の敵対的サンプル生成用のクラスのインスタンス\n",
    "    \"\"\"\n",
    "\n",
    "    def __init__(self, robust_model, attack):\n",
    "\n",
    "        # 引数をインスタンス変数にセット\n",
    "        self.robust_model = robust_model\n",
    "        self.attack = attack\n",
    "\n",
    "    def train(self, mini_batch_size, num_epochs, X_train, Y_train, X_test, Y_test):\n",
    "        \"\"\"\n",
    "        敵対的トレーニングを行う\n",
    "        Args:\n",
    "            mini_batch_size (int): ミニバッチサイズ\n",
    "            num_epochs　(int) : エポック数\n",
    "            X_train (ndarray): 学習データ\n",
    "            Y_train (ndarray): 正解データ\n",
    "            X_test (ndarray): テストデータ\n",
    "            Y_test (ndarray): テストデータの正解データ\n",
    "        \"\"\"\n",
    "\n",
    "        # エポックごとのミニバッチの数\n",
    "        num_mini_batches = (X_train.shape[0] - 1) // mini_batch_size + 1\n",
    "        \n",
    "        # エポックのループ\n",
    "        for epoch in range(num_epochs):\n",
    "\n",
    "            # ミニバッチのループ\n",
    "            for b in range(num_mini_batches):\n",
    "                \n",
    "                # ミニバッチを取得\n",
    "                start = b * mini_batch_size\n",
    "                end = start + mini_batch_size\n",
    "\n",
    "                # ミニバッチから敵対的サンプルを生成\n",
    "                X_adv = self.attack.generate(X_train[start:end], batch_size=mini_batch_size)\n",
    "                \n",
    "                # エポックごとにログの出力とテストデータによる評価を行う\n",
    "                if b == num_mini_batches - 1:\n",
    "                    # 敵対的サンプルで学習\n",
    "                    self.robust_model.fit(\n",
    "                        X_adv, # 学習データ（敵対的サンプル）\n",
    "                        Y_train[start:end], # 正解データ\n",
    "                        batch_size=mini_batch_size, # ミニバッチサイズ\n",
    "                        epochs=1, # エポック数\n",
    "                        verbose=2, # ログレベル\n",
    "                        validation_data=(X_test, Y_test)) # エポック毎に評価で使うデータ。テストデータとその正解データを指定\n",
    "                \n",
    "                else:\n",
    "                    # 敵対的サンプルで学習\n",
    "                    self.robust_model.fit(\n",
    "                        X_adv, # 学習データ（敵対的サンプル）\n",
    "                        Y_train[start:end], # 正解データ\n",
    "                        batch_size=mini_batch_size, # ミニバッチサイズ\n",
    "                        epochs=1, # エポック数\n",
    "                        verbose=0) # ログレベル"
   ]
  },
  {
   "cell_type": "markdown",
   "metadata": {},
   "source": [
    "## AdversarialTraining クラスのインスタンスを生成"
   ]
  },
  {
   "cell_type": "code",
   "execution_count": 7,
   "metadata": {},
   "outputs": [],
   "source": [
    "# ART 用の　classifier を生成\n",
    "art_classifier_robust = KerasClassifier(model=robust_model, clip_values=(0, 1))\n",
    "\n",
    "# ミニバッチサイズ\n",
    "mini_batch_size = 50\n",
    "\n",
    "# PGD Attack 用のクラスのインスタンスを生成\n",
    "attack_train = ProjectedGradientDescent(art_classifier_robust, eps=0.1, eps_step=0.005, max_iter=40, batch_size=mini_batch_size)\n",
    "\n",
    "# AdversarialTraining のインスタンスを生成\n",
    "at = AdversarialTraining(robust_model, attack_train) "
   ]
  },
  {
   "cell_type": "markdown",
   "metadata": {},
   "source": [
    "## 敵対的トレーニングの実行"
   ]
  },
  {
   "cell_type": "code",
   "execution_count": 13,
   "metadata": {},
   "outputs": [
    {
     "name": "stdout",
     "output_type": "stream",
     "text": [
      "Train on 50 samples, validate on 10000 samples\n",
      "50/50 - 0s - loss: 1.4703 - accuracy: 0.3400 - val_loss: 0.6317 - val_accuracy: 0.8052\n",
      "Train on 50 samples, validate on 10000 samples\n",
      "50/50 - 0s - loss: 0.9619 - accuracy: 0.5800 - val_loss: 0.4930 - val_accuracy: 0.8538\n",
      "Train on 50 samples, validate on 10000 samples\n",
      "50/50 - 0s - loss: 0.8337 - accuracy: 0.6800 - val_loss: 0.4544 - val_accuracy: 0.8710\n",
      "Train on 50 samples, validate on 10000 samples\n",
      "50/50 - 0s - loss: 0.7710 - accuracy: 0.6800 - val_loss: 0.4361 - val_accuracy: 0.8730\n",
      "Train on 50 samples, validate on 10000 samples\n",
      "50/50 - 0s - loss: 0.7285 - accuracy: 0.7200 - val_loss: 0.4239 - val_accuracy: 0.8757\n",
      "Train on 50 samples, validate on 10000 samples\n",
      "50/50 - 0s - loss: 0.7366 - accuracy: 0.6800 - val_loss: 0.4171 - val_accuracy: 0.8756\n",
      "Train on 50 samples, validate on 10000 samples\n",
      "50/50 - 0s - loss: 0.7223 - accuracy: 0.7000 - val_loss: 0.4126 - val_accuracy: 0.8758\n",
      "Train on 50 samples, validate on 10000 samples\n",
      "50/50 - 0s - loss: 0.7078 - accuracy: 0.7000 - val_loss: 0.4063 - val_accuracy: 0.8776\n",
      "Train on 50 samples, validate on 10000 samples\n",
      "50/50 - 0s - loss: 0.7602 - accuracy: 0.7000 - val_loss: 0.3989 - val_accuracy: 0.8808\n",
      "Train on 50 samples, validate on 10000 samples\n",
      "50/50 - 0s - loss: 0.7510 - accuracy: 0.7000 - val_loss: 0.3915 - val_accuracy: 0.8831\n",
      "Train on 50 samples, validate on 10000 samples\n",
      "50/50 - 0s - loss: 0.7412 - accuracy: 0.6800 - val_loss: 0.3819 - val_accuracy: 0.8852\n",
      "Train on 50 samples, validate on 10000 samples\n",
      "50/50 - 0s - loss: 0.7301 - accuracy: 0.6600 - val_loss: 0.3724 - val_accuracy: 0.8880\n",
      "Train on 50 samples, validate on 10000 samples\n",
      "50/50 - 0s - loss: 0.6826 - accuracy: 0.6800 - val_loss: 0.3615 - val_accuracy: 0.8904\n",
      "Train on 50 samples, validate on 10000 samples\n",
      "50/50 - 0s - loss: 0.6699 - accuracy: 0.6600 - val_loss: 0.3506 - val_accuracy: 0.8933\n",
      "Train on 50 samples, validate on 10000 samples\n",
      "50/50 - 0s - loss: 0.6666 - accuracy: 0.6600 - val_loss: 0.3421 - val_accuracy: 0.8949\n",
      "Train on 50 samples, validate on 10000 samples\n",
      "50/50 - 0s - loss: 0.6565 - accuracy: 0.6600 - val_loss: 0.3331 - val_accuracy: 0.8973\n",
      "Train on 50 samples, validate on 10000 samples\n",
      "50/50 - 0s - loss: 0.6451 - accuracy: 0.7000 - val_loss: 0.3247 - val_accuracy: 0.8997\n",
      "Train on 50 samples, validate on 10000 samples\n",
      "50/50 - 0s - loss: 0.6720 - accuracy: 0.7200 - val_loss: 0.3175 - val_accuracy: 0.9015\n",
      "Train on 50 samples, validate on 10000 samples\n",
      "50/50 - 0s - loss: 0.6637 - accuracy: 0.7200 - val_loss: 0.3103 - val_accuracy: 0.9041\n",
      "Train on 50 samples, validate on 10000 samples\n",
      "50/50 - 0s - loss: 0.6595 - accuracy: 0.7000 - val_loss: 0.3046 - val_accuracy: 0.9059\n"
     ]
    }
   ],
   "source": [
    "at.train(mini_batch_size=mini_batch_size, num_epochs=20, X_train=X_train, Y_train=Y_train, X_test=X_test, Y_test=Y_test)"
   ]
  },
  {
   "cell_type": "markdown",
   "metadata": {},
   "source": [
    "## ロバストモデルの保存（誤って読者が実行しないようにコメントアウトしています）"
   ]
  },
  {
   "cell_type": "code",
   "execution_count": 14,
   "metadata": {},
   "outputs": [],
   "source": [
    "# robust_model.save('../../models/robust_mnist.h5')"
   ]
  },
  {
   "cell_type": "markdown",
   "metadata": {},
   "source": [
    "## 筆者が学習させたロバストモデルのロード（ロードする場合はコメントアウトを解除して実行してください）"
   ]
  },
  {
   "cell_type": "code",
   "execution_count": 19,
   "metadata": {},
   "outputs": [],
   "source": [
    "# robust_model = keras.models.load_model('../../models/robust_mnist.h5')"
   ]
  },
  {
   "cell_type": "markdown",
   "metadata": {},
   "source": [
    "# 3. モデルの評価"
   ]
  },
  {
   "cell_type": "markdown",
   "metadata": {},
   "source": [
    "## 通常モデルでテストデータの敵対的サンプルを生成"
   ]
  },
  {
   "cell_type": "code",
   "execution_count": 21,
   "metadata": {},
   "outputs": [],
   "source": [
    "# ART 用の　classifier を生成\n",
    "art_classifier_normal = KerasClassifier(model=normal_model, clip_values=(0, 1))\n",
    "\n",
    "# PGD Attack 用のクラスのインスタンスを生成\n",
    "attack_normal = ProjectedGradientDescent(art_classifier_normal, eps=0.1, eps_step=0.005, max_iter=40, batch_size=mini_batch_size)\n",
    "\n",
    "# テストデータの敵対的サンプルを生成\n",
    "adv_images_normal = attack_normal.generate(X_test)"
   ]
  },
  {
   "cell_type": "markdown",
   "metadata": {},
   "source": [
    "## ロバストモデルでテストデータの敵対的サンプルを生成"
   ]
  },
  {
   "cell_type": "code",
   "execution_count": 25,
   "metadata": {},
   "outputs": [],
   "source": [
    "# ART 用の　classifier を生成\n",
    "art_classifier_robust = KerasClassifier(model=robust_model, clip_values=(0, 1))\n",
    "\n",
    "# PGD Attack 用のクラスのインスタンスを生成\n",
    "attack_robust = ProjectedGradientDescent(art_classifier_robust, eps=0.1, eps_step=0.005, max_iter=40, batch_size=mini_batch_size)\n",
    "\n",
    "# テストデータの敵対的サンプルを生成\n",
    "adv_images_robust = attack_robust.generate(X_test)"
   ]
  },
  {
   "cell_type": "markdown",
   "metadata": {},
   "source": [
    "## 通常モデルの評価"
   ]
  },
  {
   "cell_type": "code",
   "execution_count": 23,
   "metadata": {},
   "outputs": [
    {
     "name": "stdout",
     "output_type": "stream",
     "text": [
      "10000/10000 [==============================] - 0s 25us/sample - loss: 5.8544 - accuracy: 0.0656\n"
     ]
    },
    {
     "data": {
      "text/plain": [
       "[5.854394119262695, 0.0656]"
      ]
     },
     "execution_count": 23,
     "metadata": {},
     "output_type": "execute_result"
    }
   ],
   "source": [
    "normal_model.evaluate(adv_images_normal, Y_test)"
   ]
  },
  {
   "cell_type": "markdown",
   "metadata": {},
   "source": [
    "## ロバストモデルの評価"
   ]
  },
  {
   "cell_type": "code",
   "execution_count": 24,
   "metadata": {},
   "outputs": [
    {
     "name": "stdout",
     "output_type": "stream",
     "text": [
      "10000/10000 [==============================] - 0s 28us/sample - loss: 0.6417 - accuracy: 0.7494\n"
     ]
    },
    {
     "data": {
      "text/plain": [
       "[0.6416599189996719, 0.7494]"
      ]
     },
     "execution_count": 24,
     "metadata": {},
     "output_type": "execute_result"
    }
   ],
   "source": [
    "robust_model.evaluate(adv_images_robust, Y_test)"
   ]
  },
  {
   "cell_type": "code",
   "execution_count": null,
   "metadata": {},
   "outputs": [],
   "source": []
  }
 ],
 "metadata": {
  "kernelspec": {
   "display_name": "Python 3",
   "language": "python",
   "name": "python3"
  },
  "language_info": {
   "codemirror_mode": {
    "name": "ipython",
    "version": 3
   },
   "file_extension": ".py",
   "mimetype": "text/x-python",
   "name": "python",
   "nbconvert_exporter": "python",
   "pygments_lexer": "ipython3",
   "version": "3.6.9"
  }
 },
 "nbformat": 4,
 "nbformat_minor": 4
}
